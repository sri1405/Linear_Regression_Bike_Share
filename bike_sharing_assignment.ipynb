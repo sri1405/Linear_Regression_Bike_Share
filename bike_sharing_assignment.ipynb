{
 "cells": [
  {
   "cell_type": "code",
   "execution_count": 1,
   "id": "01010702",
   "metadata": {},
   "outputs": [],
   "source": [
    "import numpy as np\n",
    "import pandas as pd\n",
    "import matplotlib.pyplot as plt\n",
    "import seaborn as sns\n",
    "from sklearn.model_selection import train_test_split\n",
    "import warnings\n",
    "warnings.filterwarnings('ignore')\n",
    "\n",
    "from sklearn import preprocessing,metrics,linear_model"
   ]
  },
  {
   "cell_type": "code",
   "execution_count": 2,
   "id": "7c23f199",
   "metadata": {},
   "outputs": [
    {
     "data": {
      "text/html": [
       "<div>\n",
       "<style scoped>\n",
       "    .dataframe tbody tr th:only-of-type {\n",
       "        vertical-align: middle;\n",
       "    }\n",
       "\n",
       "    .dataframe tbody tr th {\n",
       "        vertical-align: top;\n",
       "    }\n",
       "\n",
       "    .dataframe thead th {\n",
       "        text-align: right;\n",
       "    }\n",
       "</style>\n",
       "<table border=\"1\" class=\"dataframe\">\n",
       "  <thead>\n",
       "    <tr style=\"text-align: right;\">\n",
       "      <th></th>\n",
       "      <th>instant</th>\n",
       "      <th>dteday</th>\n",
       "      <th>season</th>\n",
       "      <th>yr</th>\n",
       "      <th>mnth</th>\n",
       "      <th>holiday</th>\n",
       "      <th>weekday</th>\n",
       "      <th>workingday</th>\n",
       "      <th>weathersit</th>\n",
       "      <th>temp</th>\n",
       "      <th>atemp</th>\n",
       "      <th>hum</th>\n",
       "      <th>windspeed</th>\n",
       "      <th>casual</th>\n",
       "      <th>registered</th>\n",
       "      <th>cnt</th>\n",
       "    </tr>\n",
       "  </thead>\n",
       "  <tbody>\n",
       "    <tr>\n",
       "      <th>0</th>\n",
       "      <td>1</td>\n",
       "      <td>01-01-2018</td>\n",
       "      <td>1</td>\n",
       "      <td>0</td>\n",
       "      <td>1</td>\n",
       "      <td>0</td>\n",
       "      <td>6</td>\n",
       "      <td>0</td>\n",
       "      <td>2</td>\n",
       "      <td>14.110847</td>\n",
       "      <td>18.18125</td>\n",
       "      <td>80.5833</td>\n",
       "      <td>10.749882</td>\n",
       "      <td>331</td>\n",
       "      <td>654</td>\n",
       "      <td>985</td>\n",
       "    </tr>\n",
       "    <tr>\n",
       "      <th>1</th>\n",
       "      <td>2</td>\n",
       "      <td>02-01-2018</td>\n",
       "      <td>1</td>\n",
       "      <td>0</td>\n",
       "      <td>1</td>\n",
       "      <td>0</td>\n",
       "      <td>0</td>\n",
       "      <td>0</td>\n",
       "      <td>2</td>\n",
       "      <td>14.902598</td>\n",
       "      <td>17.68695</td>\n",
       "      <td>69.6087</td>\n",
       "      <td>16.652113</td>\n",
       "      <td>131</td>\n",
       "      <td>670</td>\n",
       "      <td>801</td>\n",
       "    </tr>\n",
       "    <tr>\n",
       "      <th>2</th>\n",
       "      <td>3</td>\n",
       "      <td>03-01-2018</td>\n",
       "      <td>1</td>\n",
       "      <td>0</td>\n",
       "      <td>1</td>\n",
       "      <td>0</td>\n",
       "      <td>1</td>\n",
       "      <td>1</td>\n",
       "      <td>1</td>\n",
       "      <td>8.050924</td>\n",
       "      <td>9.47025</td>\n",
       "      <td>43.7273</td>\n",
       "      <td>16.636703</td>\n",
       "      <td>120</td>\n",
       "      <td>1229</td>\n",
       "      <td>1349</td>\n",
       "    </tr>\n",
       "    <tr>\n",
       "      <th>3</th>\n",
       "      <td>4</td>\n",
       "      <td>04-01-2018</td>\n",
       "      <td>1</td>\n",
       "      <td>0</td>\n",
       "      <td>1</td>\n",
       "      <td>0</td>\n",
       "      <td>2</td>\n",
       "      <td>1</td>\n",
       "      <td>1</td>\n",
       "      <td>8.200000</td>\n",
       "      <td>10.60610</td>\n",
       "      <td>59.0435</td>\n",
       "      <td>10.739832</td>\n",
       "      <td>108</td>\n",
       "      <td>1454</td>\n",
       "      <td>1562</td>\n",
       "    </tr>\n",
       "    <tr>\n",
       "      <th>4</th>\n",
       "      <td>5</td>\n",
       "      <td>05-01-2018</td>\n",
       "      <td>1</td>\n",
       "      <td>0</td>\n",
       "      <td>1</td>\n",
       "      <td>0</td>\n",
       "      <td>3</td>\n",
       "      <td>1</td>\n",
       "      <td>1</td>\n",
       "      <td>9.305237</td>\n",
       "      <td>11.46350</td>\n",
       "      <td>43.6957</td>\n",
       "      <td>12.522300</td>\n",
       "      <td>82</td>\n",
       "      <td>1518</td>\n",
       "      <td>1600</td>\n",
       "    </tr>\n",
       "  </tbody>\n",
       "</table>\n",
       "</div>"
      ],
      "text/plain": [
       "   instant      dteday  season  yr  mnth  holiday  weekday  workingday  \\\n",
       "0        1  01-01-2018       1   0     1        0        6           0   \n",
       "1        2  02-01-2018       1   0     1        0        0           0   \n",
       "2        3  03-01-2018       1   0     1        0        1           1   \n",
       "3        4  04-01-2018       1   0     1        0        2           1   \n",
       "4        5  05-01-2018       1   0     1        0        3           1   \n",
       "\n",
       "   weathersit       temp     atemp      hum  windspeed  casual  registered  \\\n",
       "0           2  14.110847  18.18125  80.5833  10.749882     331         654   \n",
       "1           2  14.902598  17.68695  69.6087  16.652113     131         670   \n",
       "2           1   8.050924   9.47025  43.7273  16.636703     120        1229   \n",
       "3           1   8.200000  10.60610  59.0435  10.739832     108        1454   \n",
       "4           1   9.305237  11.46350  43.6957  12.522300      82        1518   \n",
       "\n",
       "    cnt  \n",
       "0   985  \n",
       "1   801  \n",
       "2  1349  \n",
       "3  1562  \n",
       "4  1600  "
      ]
     },
     "execution_count": 2,
     "metadata": {},
     "output_type": "execute_result"
    }
   ],
   "source": [
    "bike_share = pd.read_csv('C:/Users/ANANDHI SUNDAR/Downloads/day.csv')\n",
    "bike_share.head()"
   ]
  },
  {
   "cell_type": "code",
   "execution_count": 3,
   "id": "bc389cd8",
   "metadata": {},
   "outputs": [
    {
     "data": {
      "text/plain": [
       "(730, 16)"
      ]
     },
     "execution_count": 3,
     "metadata": {},
     "output_type": "execute_result"
    }
   ],
   "source": [
    "bike_share.shape"
   ]
  },
  {
   "cell_type": "code",
   "execution_count": 4,
   "id": "d206c35f",
   "metadata": {},
   "outputs": [
    {
     "name": "stdout",
     "output_type": "stream",
     "text": [
      "<class 'pandas.core.frame.DataFrame'>\n",
      "RangeIndex: 730 entries, 0 to 729\n",
      "Data columns (total 16 columns):\n",
      " #   Column      Non-Null Count  Dtype  \n",
      "---  ------      --------------  -----  \n",
      " 0   instant     730 non-null    int64  \n",
      " 1   dteday      730 non-null    object \n",
      " 2   season      730 non-null    int64  \n",
      " 3   yr          730 non-null    int64  \n",
      " 4   mnth        730 non-null    int64  \n",
      " 5   holiday     730 non-null    int64  \n",
      " 6   weekday     730 non-null    int64  \n",
      " 7   workingday  730 non-null    int64  \n",
      " 8   weathersit  730 non-null    int64  \n",
      " 9   temp        730 non-null    float64\n",
      " 10  atemp       730 non-null    float64\n",
      " 11  hum         730 non-null    float64\n",
      " 12  windspeed   730 non-null    float64\n",
      " 13  casual      730 non-null    int64  \n",
      " 14  registered  730 non-null    int64  \n",
      " 15  cnt         730 non-null    int64  \n",
      "dtypes: float64(4), int64(11), object(1)\n",
      "memory usage: 91.4+ KB\n"
     ]
    }
   ],
   "source": [
    "bike_share.info()"
   ]
  },
  {
   "cell_type": "code",
   "execution_count": 5,
   "id": "c651029b",
   "metadata": {},
   "outputs": [
    {
     "name": "stdout",
     "output_type": "stream",
     "text": [
      "<class 'pandas.core.frame.DataFrame'>\n",
      "RangeIndex: 730 entries, 0 to 729\n",
      "Data columns (total 16 columns):\n",
      " #   Column      Non-Null Count  Dtype         \n",
      "---  ------      --------------  -----         \n",
      " 0   instant     730 non-null    int64         \n",
      " 1   dteday      730 non-null    datetime64[ns]\n",
      " 2   season      730 non-null    category      \n",
      " 3   yr          730 non-null    category      \n",
      " 4   mnth        730 non-null    category      \n",
      " 5   holiday     730 non-null    category      \n",
      " 6   weekday     730 non-null    category      \n",
      " 7   workingday  730 non-null    category      \n",
      " 8   weathersit  730 non-null    category      \n",
      " 9   temp        730 non-null    float64       \n",
      " 10  atemp       730 non-null    float64       \n",
      " 11  hum         730 non-null    float64       \n",
      " 12  windspeed   730 non-null    float64       \n",
      " 13  casual      730 non-null    int64         \n",
      " 14  registered  730 non-null    int64         \n",
      " 15  cnt         730 non-null    int64         \n",
      "dtypes: category(7), datetime64[ns](1), float64(4), int64(4)\n",
      "memory usage: 57.9 KB\n"
     ]
    }
   ],
   "source": [
    "bike_share['dteday'] = pd.to_datetime(bike_share.dteday)\n",
    "bike_share['season'] = bike_share.season.astype('category')\n",
    "bike_share['yr'] = bike_share.yr.astype('category')\n",
    "bike_share['mnth'] = bike_share.mnth.astype('category')\n",
    "bike_share['holiday'] = bike_share.holiday.astype('category')\n",
    "bike_share['weekday'] = bike_share.weekday.astype('category')\n",
    "bike_share['workingday'] = bike_share.workingday.astype('category')\n",
    "bike_share['weathersit'] = bike_share.weathersit.astype('category')\n",
    "bike_share.info()"
   ]
  },
  {
   "cell_type": "code",
   "execution_count": 6,
   "id": "5f2db170",
   "metadata": {},
   "outputs": [
    {
     "data": {
      "text/html": [
       "<div>\n",
       "<style scoped>\n",
       "    .dataframe tbody tr th:only-of-type {\n",
       "        vertical-align: middle;\n",
       "    }\n",
       "\n",
       "    .dataframe tbody tr th {\n",
       "        vertical-align: top;\n",
       "    }\n",
       "\n",
       "    .dataframe thead th {\n",
       "        text-align: right;\n",
       "    }\n",
       "</style>\n",
       "<table border=\"1\" class=\"dataframe\">\n",
       "  <thead>\n",
       "    <tr style=\"text-align: right;\">\n",
       "      <th></th>\n",
       "      <th>instant</th>\n",
       "      <th>dteday</th>\n",
       "      <th>season</th>\n",
       "      <th>yr</th>\n",
       "      <th>mnth</th>\n",
       "      <th>holiday</th>\n",
       "      <th>weekday</th>\n",
       "      <th>workingday</th>\n",
       "      <th>weathersit</th>\n",
       "      <th>temp</th>\n",
       "      <th>atemp</th>\n",
       "      <th>hum</th>\n",
       "      <th>windspeed</th>\n",
       "      <th>casual</th>\n",
       "      <th>registered</th>\n",
       "      <th>cnt</th>\n",
       "    </tr>\n",
       "  </thead>\n",
       "  <tbody>\n",
       "    <tr>\n",
       "      <th>0</th>\n",
       "      <td>1</td>\n",
       "      <td>2018-01-01</td>\n",
       "      <td>1</td>\n",
       "      <td>0</td>\n",
       "      <td>1</td>\n",
       "      <td>0</td>\n",
       "      <td>6</td>\n",
       "      <td>0</td>\n",
       "      <td>2</td>\n",
       "      <td>14.110847</td>\n",
       "      <td>18.18125</td>\n",
       "      <td>80.5833</td>\n",
       "      <td>10.749882</td>\n",
       "      <td>331</td>\n",
       "      <td>654</td>\n",
       "      <td>985</td>\n",
       "    </tr>\n",
       "    <tr>\n",
       "      <th>1</th>\n",
       "      <td>2</td>\n",
       "      <td>2018-02-01</td>\n",
       "      <td>1</td>\n",
       "      <td>0</td>\n",
       "      <td>1</td>\n",
       "      <td>0</td>\n",
       "      <td>0</td>\n",
       "      <td>0</td>\n",
       "      <td>2</td>\n",
       "      <td>14.902598</td>\n",
       "      <td>17.68695</td>\n",
       "      <td>69.6087</td>\n",
       "      <td>16.652113</td>\n",
       "      <td>131</td>\n",
       "      <td>670</td>\n",
       "      <td>801</td>\n",
       "    </tr>\n",
       "    <tr>\n",
       "      <th>2</th>\n",
       "      <td>3</td>\n",
       "      <td>2018-03-01</td>\n",
       "      <td>1</td>\n",
       "      <td>0</td>\n",
       "      <td>1</td>\n",
       "      <td>0</td>\n",
       "      <td>1</td>\n",
       "      <td>1</td>\n",
       "      <td>1</td>\n",
       "      <td>8.050924</td>\n",
       "      <td>9.47025</td>\n",
       "      <td>43.7273</td>\n",
       "      <td>16.636703</td>\n",
       "      <td>120</td>\n",
       "      <td>1229</td>\n",
       "      <td>1349</td>\n",
       "    </tr>\n",
       "    <tr>\n",
       "      <th>3</th>\n",
       "      <td>4</td>\n",
       "      <td>2018-04-01</td>\n",
       "      <td>1</td>\n",
       "      <td>0</td>\n",
       "      <td>1</td>\n",
       "      <td>0</td>\n",
       "      <td>2</td>\n",
       "      <td>1</td>\n",
       "      <td>1</td>\n",
       "      <td>8.200000</td>\n",
       "      <td>10.60610</td>\n",
       "      <td>59.0435</td>\n",
       "      <td>10.739832</td>\n",
       "      <td>108</td>\n",
       "      <td>1454</td>\n",
       "      <td>1562</td>\n",
       "    </tr>\n",
       "    <tr>\n",
       "      <th>4</th>\n",
       "      <td>5</td>\n",
       "      <td>2018-05-01</td>\n",
       "      <td>1</td>\n",
       "      <td>0</td>\n",
       "      <td>1</td>\n",
       "      <td>0</td>\n",
       "      <td>3</td>\n",
       "      <td>1</td>\n",
       "      <td>1</td>\n",
       "      <td>9.305237</td>\n",
       "      <td>11.46350</td>\n",
       "      <td>43.6957</td>\n",
       "      <td>12.522300</td>\n",
       "      <td>82</td>\n",
       "      <td>1518</td>\n",
       "      <td>1600</td>\n",
       "    </tr>\n",
       "    <tr>\n",
       "      <th>5</th>\n",
       "      <td>6</td>\n",
       "      <td>2018-06-01</td>\n",
       "      <td>1</td>\n",
       "      <td>0</td>\n",
       "      <td>1</td>\n",
       "      <td>0</td>\n",
       "      <td>4</td>\n",
       "      <td>1</td>\n",
       "      <td>1</td>\n",
       "      <td>8.378268</td>\n",
       "      <td>11.66045</td>\n",
       "      <td>51.8261</td>\n",
       "      <td>6.000868</td>\n",
       "      <td>88</td>\n",
       "      <td>1518</td>\n",
       "      <td>1606</td>\n",
       "    </tr>\n",
       "    <tr>\n",
       "      <th>6</th>\n",
       "      <td>7</td>\n",
       "      <td>2018-07-01</td>\n",
       "      <td>1</td>\n",
       "      <td>0</td>\n",
       "      <td>1</td>\n",
       "      <td>0</td>\n",
       "      <td>5</td>\n",
       "      <td>1</td>\n",
       "      <td>2</td>\n",
       "      <td>8.057402</td>\n",
       "      <td>10.44195</td>\n",
       "      <td>49.8696</td>\n",
       "      <td>11.304642</td>\n",
       "      <td>148</td>\n",
       "      <td>1362</td>\n",
       "      <td>1510</td>\n",
       "    </tr>\n",
       "    <tr>\n",
       "      <th>7</th>\n",
       "      <td>8</td>\n",
       "      <td>2018-08-01</td>\n",
       "      <td>1</td>\n",
       "      <td>0</td>\n",
       "      <td>1</td>\n",
       "      <td>0</td>\n",
       "      <td>6</td>\n",
       "      <td>0</td>\n",
       "      <td>2</td>\n",
       "      <td>6.765000</td>\n",
       "      <td>8.11270</td>\n",
       "      <td>53.5833</td>\n",
       "      <td>17.875868</td>\n",
       "      <td>68</td>\n",
       "      <td>891</td>\n",
       "      <td>959</td>\n",
       "    </tr>\n",
       "    <tr>\n",
       "      <th>8</th>\n",
       "      <td>9</td>\n",
       "      <td>2018-09-01</td>\n",
       "      <td>1</td>\n",
       "      <td>0</td>\n",
       "      <td>1</td>\n",
       "      <td>0</td>\n",
       "      <td>0</td>\n",
       "      <td>0</td>\n",
       "      <td>1</td>\n",
       "      <td>5.671653</td>\n",
       "      <td>5.80875</td>\n",
       "      <td>43.4167</td>\n",
       "      <td>24.250650</td>\n",
       "      <td>54</td>\n",
       "      <td>768</td>\n",
       "      <td>822</td>\n",
       "    </tr>\n",
       "    <tr>\n",
       "      <th>9</th>\n",
       "      <td>10</td>\n",
       "      <td>2018-10-01</td>\n",
       "      <td>1</td>\n",
       "      <td>0</td>\n",
       "      <td>1</td>\n",
       "      <td>0</td>\n",
       "      <td>1</td>\n",
       "      <td>1</td>\n",
       "      <td>1</td>\n",
       "      <td>6.184153</td>\n",
       "      <td>7.54440</td>\n",
       "      <td>48.2917</td>\n",
       "      <td>14.958889</td>\n",
       "      <td>41</td>\n",
       "      <td>1280</td>\n",
       "      <td>1321</td>\n",
       "    </tr>\n",
       "  </tbody>\n",
       "</table>\n",
       "</div>"
      ],
      "text/plain": [
       "   instant     dteday season yr mnth holiday weekday workingday weathersit  \\\n",
       "0        1 2018-01-01      1  0    1       0       6          0          2   \n",
       "1        2 2018-02-01      1  0    1       0       0          0          2   \n",
       "2        3 2018-03-01      1  0    1       0       1          1          1   \n",
       "3        4 2018-04-01      1  0    1       0       2          1          1   \n",
       "4        5 2018-05-01      1  0    1       0       3          1          1   \n",
       "5        6 2018-06-01      1  0    1       0       4          1          1   \n",
       "6        7 2018-07-01      1  0    1       0       5          1          2   \n",
       "7        8 2018-08-01      1  0    1       0       6          0          2   \n",
       "8        9 2018-09-01      1  0    1       0       0          0          1   \n",
       "9       10 2018-10-01      1  0    1       0       1          1          1   \n",
       "\n",
       "        temp     atemp      hum  windspeed  casual  registered   cnt  \n",
       "0  14.110847  18.18125  80.5833  10.749882     331         654   985  \n",
       "1  14.902598  17.68695  69.6087  16.652113     131         670   801  \n",
       "2   8.050924   9.47025  43.7273  16.636703     120        1229  1349  \n",
       "3   8.200000  10.60610  59.0435  10.739832     108        1454  1562  \n",
       "4   9.305237  11.46350  43.6957  12.522300      82        1518  1600  \n",
       "5   8.378268  11.66045  51.8261   6.000868      88        1518  1606  \n",
       "6   8.057402  10.44195  49.8696  11.304642     148        1362  1510  \n",
       "7   6.765000   8.11270  53.5833  17.875868      68         891   959  \n",
       "8   5.671653   5.80875  43.4167  24.250650      54         768   822  \n",
       "9   6.184153   7.54440  48.2917  14.958889      41        1280  1321  "
      ]
     },
     "execution_count": 6,
     "metadata": {},
     "output_type": "execute_result"
    }
   ],
   "source": [
    "bike_share.head(10)"
   ]
  },
  {
   "cell_type": "code",
   "execution_count": 7,
   "id": "d43140ab",
   "metadata": {},
   "outputs": [
    {
     "data": {
      "text/html": [
       "<div>\n",
       "<style scoped>\n",
       "    .dataframe tbody tr th:only-of-type {\n",
       "        vertical-align: middle;\n",
       "    }\n",
       "\n",
       "    .dataframe tbody tr th {\n",
       "        vertical-align: top;\n",
       "    }\n",
       "\n",
       "    .dataframe thead th {\n",
       "        text-align: right;\n",
       "    }\n",
       "</style>\n",
       "<table border=\"1\" class=\"dataframe\">\n",
       "  <thead>\n",
       "    <tr style=\"text-align: right;\">\n",
       "      <th></th>\n",
       "      <th>instant</th>\n",
       "      <th>temp</th>\n",
       "      <th>atemp</th>\n",
       "      <th>hum</th>\n",
       "      <th>windspeed</th>\n",
       "      <th>casual</th>\n",
       "      <th>registered</th>\n",
       "      <th>cnt</th>\n",
       "    </tr>\n",
       "  </thead>\n",
       "  <tbody>\n",
       "    <tr>\n",
       "      <th>count</th>\n",
       "      <td>730.000000</td>\n",
       "      <td>730.000000</td>\n",
       "      <td>730.000000</td>\n",
       "      <td>730.000000</td>\n",
       "      <td>730.000000</td>\n",
       "      <td>730.000000</td>\n",
       "      <td>730.000000</td>\n",
       "      <td>730.000000</td>\n",
       "    </tr>\n",
       "    <tr>\n",
       "      <th>mean</th>\n",
       "      <td>365.500000</td>\n",
       "      <td>20.319259</td>\n",
       "      <td>23.726322</td>\n",
       "      <td>62.765175</td>\n",
       "      <td>12.763620</td>\n",
       "      <td>849.249315</td>\n",
       "      <td>3658.757534</td>\n",
       "      <td>4508.006849</td>\n",
       "    </tr>\n",
       "    <tr>\n",
       "      <th>std</th>\n",
       "      <td>210.877136</td>\n",
       "      <td>7.506729</td>\n",
       "      <td>8.150308</td>\n",
       "      <td>14.237589</td>\n",
       "      <td>5.195841</td>\n",
       "      <td>686.479875</td>\n",
       "      <td>1559.758728</td>\n",
       "      <td>1936.011647</td>\n",
       "    </tr>\n",
       "    <tr>\n",
       "      <th>min</th>\n",
       "      <td>1.000000</td>\n",
       "      <td>2.424346</td>\n",
       "      <td>3.953480</td>\n",
       "      <td>0.000000</td>\n",
       "      <td>1.500244</td>\n",
       "      <td>2.000000</td>\n",
       "      <td>20.000000</td>\n",
       "      <td>22.000000</td>\n",
       "    </tr>\n",
       "    <tr>\n",
       "      <th>25%</th>\n",
       "      <td>183.250000</td>\n",
       "      <td>13.811885</td>\n",
       "      <td>16.889713</td>\n",
       "      <td>52.000000</td>\n",
       "      <td>9.041650</td>\n",
       "      <td>316.250000</td>\n",
       "      <td>2502.250000</td>\n",
       "      <td>3169.750000</td>\n",
       "    </tr>\n",
       "    <tr>\n",
       "      <th>50%</th>\n",
       "      <td>365.500000</td>\n",
       "      <td>20.465826</td>\n",
       "      <td>24.368225</td>\n",
       "      <td>62.625000</td>\n",
       "      <td>12.125325</td>\n",
       "      <td>717.000000</td>\n",
       "      <td>3664.500000</td>\n",
       "      <td>4548.500000</td>\n",
       "    </tr>\n",
       "    <tr>\n",
       "      <th>75%</th>\n",
       "      <td>547.750000</td>\n",
       "      <td>26.880615</td>\n",
       "      <td>30.445775</td>\n",
       "      <td>72.989575</td>\n",
       "      <td>15.625589</td>\n",
       "      <td>1096.500000</td>\n",
       "      <td>4783.250000</td>\n",
       "      <td>5966.000000</td>\n",
       "    </tr>\n",
       "    <tr>\n",
       "      <th>max</th>\n",
       "      <td>730.000000</td>\n",
       "      <td>35.328347</td>\n",
       "      <td>42.044800</td>\n",
       "      <td>97.250000</td>\n",
       "      <td>34.000021</td>\n",
       "      <td>3410.000000</td>\n",
       "      <td>6946.000000</td>\n",
       "      <td>8714.000000</td>\n",
       "    </tr>\n",
       "  </tbody>\n",
       "</table>\n",
       "</div>"
      ],
      "text/plain": [
       "          instant        temp       atemp         hum   windspeed  \\\n",
       "count  730.000000  730.000000  730.000000  730.000000  730.000000   \n",
       "mean   365.500000   20.319259   23.726322   62.765175   12.763620   \n",
       "std    210.877136    7.506729    8.150308   14.237589    5.195841   \n",
       "min      1.000000    2.424346    3.953480    0.000000    1.500244   \n",
       "25%    183.250000   13.811885   16.889713   52.000000    9.041650   \n",
       "50%    365.500000   20.465826   24.368225   62.625000   12.125325   \n",
       "75%    547.750000   26.880615   30.445775   72.989575   15.625589   \n",
       "max    730.000000   35.328347   42.044800   97.250000   34.000021   \n",
       "\n",
       "            casual   registered          cnt  \n",
       "count   730.000000   730.000000   730.000000  \n",
       "mean    849.249315  3658.757534  4508.006849  \n",
       "std     686.479875  1559.758728  1936.011647  \n",
       "min       2.000000    20.000000    22.000000  \n",
       "25%     316.250000  2502.250000  3169.750000  \n",
       "50%     717.000000  3664.500000  4548.500000  \n",
       "75%    1096.500000  4783.250000  5966.000000  \n",
       "max    3410.000000  6946.000000  8714.000000  "
      ]
     },
     "execution_count": 7,
     "metadata": {},
     "output_type": "execute_result"
    }
   ],
   "source": [
    "bike_share.describe()"
   ]
  },
  {
   "cell_type": "code",
   "execution_count": 8,
   "id": "6f9d17c5",
   "metadata": {},
   "outputs": [
    {
     "name": "stdout",
     "output_type": "stream",
     "text": [
      "<class 'pandas.core.frame.DataFrame'>\n",
      "RangeIndex: 730 entries, 0 to 729\n",
      "Data columns (total 16 columns):\n",
      " #   Column      Non-Null Count  Dtype         \n",
      "---  ------      --------------  -----         \n",
      " 0   instant     730 non-null    int64         \n",
      " 1   dteday      730 non-null    datetime64[ns]\n",
      " 2   season      730 non-null    category      \n",
      " 3   yr          730 non-null    category      \n",
      " 4   mnth        730 non-null    category      \n",
      " 5   holiday     730 non-null    category      \n",
      " 6   weekday     730 non-null    category      \n",
      " 7   workingday  730 non-null    category      \n",
      " 8   weathersit  730 non-null    category      \n",
      " 9   temp        730 non-null    float64       \n",
      " 10  atemp       730 non-null    float64       \n",
      " 11  hum         730 non-null    float64       \n",
      " 12  windspeed   730 non-null    float64       \n",
      " 13  casual      730 non-null    int64         \n",
      " 14  registered  730 non-null    int64         \n",
      " 15  cnt         730 non-null    int64         \n",
      "dtypes: category(7), datetime64[ns](1), float64(4), int64(4)\n",
      "memory usage: 57.9 KB\n"
     ]
    }
   ],
   "source": [
    "bike_share.info()"
   ]
  },
  {
   "cell_type": "code",
   "execution_count": 9,
   "id": "6d99f208",
   "metadata": {},
   "outputs": [],
   "source": [
    "bike_share['dteday'] = pd.to_datetime(bike_share.dteday)"
   ]
  },
  {
   "cell_type": "code",
   "execution_count": 10,
   "id": "9e2a772d",
   "metadata": {},
   "outputs": [
    {
     "data": {
      "text/plain": [
       "instant       0\n",
       "dteday        0\n",
       "season        0\n",
       "yr            0\n",
       "mnth          0\n",
       "holiday       0\n",
       "weekday       0\n",
       "workingday    0\n",
       "weathersit    0\n",
       "temp          0\n",
       "atemp         0\n",
       "hum           0\n",
       "windspeed     0\n",
       "casual        0\n",
       "registered    0\n",
       "cnt           0\n",
       "dtype: int64"
      ]
     },
     "execution_count": 10,
     "metadata": {},
     "output_type": "execute_result"
    }
   ],
   "source": [
    "bike_share.isnull().sum()"
   ]
  },
  {
   "cell_type": "code",
   "execution_count": 11,
   "id": "b6cc2327",
   "metadata": {},
   "outputs": [
    {
     "data": {
      "text/plain": [
       "[1, 2, 3, 4]\n",
       "Categories (4, int64): [1, 2, 3, 4]"
      ]
     },
     "execution_count": 11,
     "metadata": {},
     "output_type": "execute_result"
    }
   ],
   "source": [
    "bike_share[\"season\"].unique()"
   ]
  },
  {
   "cell_type": "code",
   "execution_count": 12,
   "id": "4384febd",
   "metadata": {},
   "outputs": [],
   "source": [
    "season = {1: 'spring', \n",
    "          2:'summer', \n",
    "          3:'fall', \n",
    "          4:'winter'}\n",
    "\n",
    "bike_share[\"season\"]= bike_share[\"season\"].map(season)\n"
   ]
  },
  {
   "cell_type": "code",
   "execution_count": 13,
   "id": "eda04886",
   "metadata": {},
   "outputs": [
    {
     "data": {
      "text/plain": [
       "['spring', 'summer', 'fall', 'winter']\n",
       "Categories (4, object): ['spring', 'summer', 'fall', 'winter']"
      ]
     },
     "execution_count": 13,
     "metadata": {},
     "output_type": "execute_result"
    }
   ],
   "source": [
    "bike_share.season.unique()"
   ]
  },
  {
   "cell_type": "code",
   "execution_count": 14,
   "id": "be42e566",
   "metadata": {},
   "outputs": [],
   "source": [
    "year = {0:2018,1:2019}\n",
    "bike_share[\"yr\"] = bike_share[\"yr\"].map(year)\n"
   ]
  },
  {
   "cell_type": "code",
   "execution_count": 15,
   "id": "793ec601",
   "metadata": {},
   "outputs": [
    {
     "data": {
      "text/plain": [
       "[2018, 2019]\n",
       "Categories (2, int64): [2018, 2019]"
      ]
     },
     "execution_count": 15,
     "metadata": {},
     "output_type": "execute_result"
    }
   ],
   "source": [
    "bike_share.yr.unique()"
   ]
  },
  {
   "cell_type": "code",
   "execution_count": 16,
   "id": "58220ef7",
   "metadata": {},
   "outputs": [
    {
     "data": {
      "text/html": [
       "<div>\n",
       "<style scoped>\n",
       "    .dataframe tbody tr th:only-of-type {\n",
       "        vertical-align: middle;\n",
       "    }\n",
       "\n",
       "    .dataframe tbody tr th {\n",
       "        vertical-align: top;\n",
       "    }\n",
       "\n",
       "    .dataframe thead th {\n",
       "        text-align: right;\n",
       "    }\n",
       "</style>\n",
       "<table border=\"1\" class=\"dataframe\">\n",
       "  <thead>\n",
       "    <tr style=\"text-align: right;\">\n",
       "      <th></th>\n",
       "      <th>instant</th>\n",
       "      <th>dteday</th>\n",
       "      <th>season</th>\n",
       "      <th>yr</th>\n",
       "      <th>mnth</th>\n",
       "      <th>holiday</th>\n",
       "      <th>weekday</th>\n",
       "      <th>workingday</th>\n",
       "      <th>weathersit</th>\n",
       "      <th>temp</th>\n",
       "      <th>atemp</th>\n",
       "      <th>hum</th>\n",
       "      <th>windspeed</th>\n",
       "      <th>casual</th>\n",
       "      <th>registered</th>\n",
       "      <th>cnt</th>\n",
       "    </tr>\n",
       "  </thead>\n",
       "  <tbody>\n",
       "    <tr>\n",
       "      <th>0</th>\n",
       "      <td>1</td>\n",
       "      <td>2018-01-01</td>\n",
       "      <td>spring</td>\n",
       "      <td>2018</td>\n",
       "      <td>1</td>\n",
       "      <td>0</td>\n",
       "      <td>6</td>\n",
       "      <td>0</td>\n",
       "      <td>2</td>\n",
       "      <td>14.110847</td>\n",
       "      <td>18.18125</td>\n",
       "      <td>80.5833</td>\n",
       "      <td>10.749882</td>\n",
       "      <td>331</td>\n",
       "      <td>654</td>\n",
       "      <td>985</td>\n",
       "    </tr>\n",
       "    <tr>\n",
       "      <th>1</th>\n",
       "      <td>2</td>\n",
       "      <td>2018-02-01</td>\n",
       "      <td>spring</td>\n",
       "      <td>2018</td>\n",
       "      <td>1</td>\n",
       "      <td>0</td>\n",
       "      <td>0</td>\n",
       "      <td>0</td>\n",
       "      <td>2</td>\n",
       "      <td>14.902598</td>\n",
       "      <td>17.68695</td>\n",
       "      <td>69.6087</td>\n",
       "      <td>16.652113</td>\n",
       "      <td>131</td>\n",
       "      <td>670</td>\n",
       "      <td>801</td>\n",
       "    </tr>\n",
       "    <tr>\n",
       "      <th>2</th>\n",
       "      <td>3</td>\n",
       "      <td>2018-03-01</td>\n",
       "      <td>spring</td>\n",
       "      <td>2018</td>\n",
       "      <td>1</td>\n",
       "      <td>0</td>\n",
       "      <td>1</td>\n",
       "      <td>1</td>\n",
       "      <td>1</td>\n",
       "      <td>8.050924</td>\n",
       "      <td>9.47025</td>\n",
       "      <td>43.7273</td>\n",
       "      <td>16.636703</td>\n",
       "      <td>120</td>\n",
       "      <td>1229</td>\n",
       "      <td>1349</td>\n",
       "    </tr>\n",
       "    <tr>\n",
       "      <th>3</th>\n",
       "      <td>4</td>\n",
       "      <td>2018-04-01</td>\n",
       "      <td>spring</td>\n",
       "      <td>2018</td>\n",
       "      <td>1</td>\n",
       "      <td>0</td>\n",
       "      <td>2</td>\n",
       "      <td>1</td>\n",
       "      <td>1</td>\n",
       "      <td>8.200000</td>\n",
       "      <td>10.60610</td>\n",
       "      <td>59.0435</td>\n",
       "      <td>10.739832</td>\n",
       "      <td>108</td>\n",
       "      <td>1454</td>\n",
       "      <td>1562</td>\n",
       "    </tr>\n",
       "    <tr>\n",
       "      <th>4</th>\n",
       "      <td>5</td>\n",
       "      <td>2018-05-01</td>\n",
       "      <td>spring</td>\n",
       "      <td>2018</td>\n",
       "      <td>1</td>\n",
       "      <td>0</td>\n",
       "      <td>3</td>\n",
       "      <td>1</td>\n",
       "      <td>1</td>\n",
       "      <td>9.305237</td>\n",
       "      <td>11.46350</td>\n",
       "      <td>43.6957</td>\n",
       "      <td>12.522300</td>\n",
       "      <td>82</td>\n",
       "      <td>1518</td>\n",
       "      <td>1600</td>\n",
       "    </tr>\n",
       "  </tbody>\n",
       "</table>\n",
       "</div>"
      ],
      "text/plain": [
       "   instant     dteday  season    yr mnth holiday weekday workingday  \\\n",
       "0        1 2018-01-01  spring  2018    1       0       6          0   \n",
       "1        2 2018-02-01  spring  2018    1       0       0          0   \n",
       "2        3 2018-03-01  spring  2018    1       0       1          1   \n",
       "3        4 2018-04-01  spring  2018    1       0       2          1   \n",
       "4        5 2018-05-01  spring  2018    1       0       3          1   \n",
       "\n",
       "  weathersit       temp     atemp      hum  windspeed  casual  registered  \\\n",
       "0          2  14.110847  18.18125  80.5833  10.749882     331         654   \n",
       "1          2  14.902598  17.68695  69.6087  16.652113     131         670   \n",
       "2          1   8.050924   9.47025  43.7273  16.636703     120        1229   \n",
       "3          1   8.200000  10.60610  59.0435  10.739832     108        1454   \n",
       "4          1   9.305237  11.46350  43.6957  12.522300      82        1518   \n",
       "\n",
       "    cnt  \n",
       "0   985  \n",
       "1   801  \n",
       "2  1349  \n",
       "3  1562  \n",
       "4  1600  "
      ]
     },
     "execution_count": 16,
     "metadata": {},
     "output_type": "execute_result"
    }
   ],
   "source": [
    "bike_share.head()"
   ]
  },
  {
   "cell_type": "code",
   "execution_count": 17,
   "id": "38e97679",
   "metadata": {},
   "outputs": [
    {
     "data": {
      "text/plain": [
       "[1, 2, 3, 4, 5, ..., 8, 9, 10, 11, 12]\n",
       "Length: 12\n",
       "Categories (12, int64): [1, 2, 3, 4, ..., 9, 10, 11, 12]"
      ]
     },
     "execution_count": 17,
     "metadata": {},
     "output_type": "execute_result"
    }
   ],
   "source": [
    "bike_share.mnth.unique()"
   ]
  },
  {
   "cell_type": "code",
   "execution_count": 18,
   "id": "080a74aa",
   "metadata": {},
   "outputs": [],
   "source": [
    "month = {1 : \"Jan\" , 2 : \"Feb\", 3 : \"Mar\" , 4 : \" Apr\" , 5 : \"May\" , 6 : \"Jun\",\n",
    "         7 : \"Jul\", 8 : \"Aug\" , 9 : \"Sep\" , 10 : \"Oct\" , 11 : \"Nov\" , 12 : \"Dec\"}"
   ]
  },
  {
   "cell_type": "code",
   "execution_count": 19,
   "id": "558ecd69",
   "metadata": {},
   "outputs": [],
   "source": [
    "bike_share[\"mnth\"] = bike_share[\"mnth\"].map(month)"
   ]
  },
  {
   "cell_type": "code",
   "execution_count": 20,
   "id": "b0389ee3",
   "metadata": {},
   "outputs": [
    {
     "data": {
      "text/plain": [
       "0      Jan\n",
       "1      Jan\n",
       "2      Jan\n",
       "3      Jan\n",
       "4      Jan\n",
       "      ... \n",
       "725    Dec\n",
       "726    Dec\n",
       "727    Dec\n",
       "728    Dec\n",
       "729    Dec\n",
       "Name: mnth, Length: 730, dtype: category\n",
       "Categories (12, object): ['Jan', 'Feb', 'Mar', ' Apr', ..., 'Sep', 'Oct', 'Nov', 'Dec']"
      ]
     },
     "execution_count": 20,
     "metadata": {},
     "output_type": "execute_result"
    }
   ],
   "source": [
    "bike_share[\"mnth\"]"
   ]
  },
  {
   "cell_type": "code",
   "execution_count": 21,
   "id": "13aeb955",
   "metadata": {},
   "outputs": [],
   "source": [
    "day = {0 : \"Sun\" , 1 : \"Mon\" , 2 : \"Tue\" , 3 : \"Wed\" ,\n",
    "      4 : \"Thu\" , 5 : \"Fri\", 6 : \"Sat\"}"
   ]
  },
  {
   "cell_type": "code",
   "execution_count": 22,
   "id": "10820b16",
   "metadata": {},
   "outputs": [
    {
     "data": {
      "text/plain": [
       "0      Sat\n",
       "1      Sun\n",
       "2      Mon\n",
       "3      Tue\n",
       "4      Wed\n",
       "      ... \n",
       "725    Thu\n",
       "726    Fri\n",
       "727    Sat\n",
       "728    Sun\n",
       "729    Mon\n",
       "Name: weekday, Length: 730, dtype: category\n",
       "Categories (7, object): ['Sun', 'Mon', 'Tue', 'Wed', 'Thu', 'Fri', 'Sat']"
      ]
     },
     "execution_count": 22,
     "metadata": {},
     "output_type": "execute_result"
    }
   ],
   "source": [
    "bike_share[\"weekday\"] = bike_share[\"weekday\"].map(day)\n",
    "bike_share[\"weekday\"]"
   ]
  },
  {
   "cell_type": "code",
   "execution_count": 23,
   "id": "5a9570cf",
   "metadata": {},
   "outputs": [
    {
     "data": {
      "text/plain": [
       "[2, 1, 3]\n",
       "Categories (3, int64): [1, 2, 3]"
      ]
     },
     "execution_count": 23,
     "metadata": {},
     "output_type": "execute_result"
    }
   ],
   "source": [
    "bike_share[\"weathersit\"].unique()"
   ]
  },
  {
   "cell_type": "code",
   "execution_count": 24,
   "id": "b4ad5b19",
   "metadata": {},
   "outputs": [],
   "source": [
    "weather = {1 : \"Clear\",\n",
    "          2 : \"Cloudy\",\n",
    "          3 : \"Light Rain\"}"
   ]
  },
  {
   "cell_type": "code",
   "execution_count": 25,
   "id": "4c74fe72",
   "metadata": {},
   "outputs": [],
   "source": [
    "bike_share[\"weathersit\"] = bike_share[\"weathersit\"].map(weather)"
   ]
  },
  {
   "cell_type": "code",
   "execution_count": 26,
   "id": "e95aa13e",
   "metadata": {},
   "outputs": [
    {
     "data": {
      "text/plain": [
       "0      Cloudy\n",
       "1      Cloudy\n",
       "2       Clear\n",
       "3       Clear\n",
       "4       Clear\n",
       "        ...  \n",
       "725    Cloudy\n",
       "726    Cloudy\n",
       "727    Cloudy\n",
       "728     Clear\n",
       "729    Cloudy\n",
       "Name: weathersit, Length: 730, dtype: category\n",
       "Categories (3, object): ['Clear', 'Cloudy', 'Light Rain']"
      ]
     },
     "execution_count": 26,
     "metadata": {},
     "output_type": "execute_result"
    }
   ],
   "source": [
    "bike_share[\"weathersit\"]"
   ]
  },
  {
   "cell_type": "code",
   "execution_count": 27,
   "id": "9bdeb6e2",
   "metadata": {},
   "outputs": [
    {
     "data": {
      "text/plain": [
       "instant       0.0\n",
       "dteday        0.0\n",
       "season        0.0\n",
       "yr            0.0\n",
       "mnth          0.0\n",
       "holiday       0.0\n",
       "weekday       0.0\n",
       "workingday    0.0\n",
       "weathersit    0.0\n",
       "temp          0.0\n",
       "atemp         0.0\n",
       "hum           0.0\n",
       "windspeed     0.0\n",
       "casual        0.0\n",
       "registered    0.0\n",
       "cnt           0.0\n",
       "dtype: float64"
      ]
     },
     "execution_count": 27,
     "metadata": {},
     "output_type": "execute_result"
    }
   ],
   "source": [
    "bike_share.isnull().sum()*100/bike_share.shape[0]"
   ]
  },
  {
   "cell_type": "code",
   "execution_count": 28,
   "id": "f086c17c",
   "metadata": {},
   "outputs": [],
   "source": [
    "bike_share[\"windspeed\"] = round (bike_share[\"windspeed\"],0)\n",
    "bike_share[\"temp\"] = round (bike_share[\"temp\"],0)\n"
   ]
  },
  {
   "cell_type": "code",
   "execution_count": 29,
   "id": "2fa9e76a",
   "metadata": {},
   "outputs": [
    {
     "data": {
      "image/png": "[encoded data removed]",
      "text/plain": [
       "<Figure size 500x500 with 3 Axes>"
      ]
     },
     "metadata": {},
     "output_type": "display_data"
    }
   ],
   "source": [
    "fig, axs = plt.subplots(3, figsize = (5,5))\n",
    "plt1 = sns.boxplot(bike_share['cnt'], ax = axs[0])\n",
    "plt2 = sns.boxplot(bike_share['registered'], ax = axs[1])\n",
    "plt3 = sns.boxplot(bike_share['casual'], ax = axs[2])\n",
    "plt.tight_layout()"
   ]
  },
  {
   "cell_type": "code",
   "execution_count": 30,
   "id": "9b598361",
   "metadata": {},
   "outputs": [],
   "source": [
    "yr_sum = bike_share.groupby(\"yr\")[\"cnt\"].sum()\n",
    "yr_sum = yr_sum.reset_index()"
   ]
  },
  {
   "cell_type": "code",
   "execution_count": 31,
   "id": "b83af515",
   "metadata": {},
   "outputs": [
    {
     "data": {
      "image/png": "[encoded data removed]",
      "text/plain": [
       "<Figure size 640x480 with 1 Axes>"
      ]
     },
     "metadata": {},
     "output_type": "display_data"
    }
   ],
   "source": [
    "sns.barplot(data = yr_sum, x = \"yr\" , y = \"cnt\", edgecolor = \"black\");"
   ]
  },
  {
   "cell_type": "code",
   "execution_count": 32,
   "id": "033ad3e5",
   "metadata": {},
   "outputs": [],
   "source": [
    "mnth_sum = bike_share.groupby(\"mnth\")[\"cnt\"].sum()\n",
    "mnth_sum = mnth_sum.reset_index()"
   ]
  },
  {
   "cell_type": "code",
   "execution_count": 33,
   "id": "b3b811ed",
   "metadata": {},
   "outputs": [
    {
     "data": {
      "image/png": "[encoded data removed]",
      "text/plain": [
       "<Figure size 640x480 with 1 Axes>"
      ]
     },
     "metadata": {},
     "output_type": "display_data"
    }
   ],
   "source": [
    "sns.barplot(data = mnth_sum, x = \"mnth\" , y = \"cnt\", edgecolor = \"black\");"
   ]
  },
  {
   "cell_type": "code",
   "execution_count": 34,
   "id": "dcf091e9",
   "metadata": {},
   "outputs": [],
   "source": [
    "weekday_sum = bike_share.groupby(\"weekday\")[\"cnt\"].sum()\n",
    "weekday_sum = weekday_sum.reset_index()"
   ]
  },
  {
   "cell_type": "code",
   "execution_count": 35,
   "id": "fa931c42",
   "metadata": {},
   "outputs": [
    {
     "data": {
      "image/png": "[encoded data removed]",
      "text/plain": [
       "<Figure size 640x480 with 1 Axes>"
      ]
     },
     "metadata": {},
     "output_type": "display_data"
    }
   ],
   "source": [
    "sns.barplot(data = weekday_sum, x = \"weekday\" , y = \"cnt\", edgecolor = \"black\");"
   ]
  },
  {
   "cell_type": "code",
   "execution_count": 36,
   "id": "7f1dfb53",
   "metadata": {},
   "outputs": [],
   "source": [
    "workday_sum = bike_share.groupby(\"workingday\")[\"cnt\"].sum()\n",
    "workday_sum = workday_sum.reset_index()"
   ]
  },
  {
   "cell_type": "code",
   "execution_count": 37,
   "id": "acd208ff",
   "metadata": {},
   "outputs": [
    {
     "data": {
      "text/plain": [
       "<Axes: xlabel='workingday', ylabel='cnt'>"
      ]
     },
     "execution_count": 37,
     "metadata": {},
     "output_type": "execute_result"
    },
    {
     "data": {
      "image/png": "[encoded data removed]",
      "text/plain": [
       "<Figure size 640x480 with 1 Axes>"
      ]
     },
     "metadata": {},
     "output_type": "display_data"
    }
   ],
   "source": [
    "sns.barplot(data=workday_sum,x = \"workingday\", y =\"cnt\",edgecolor = \"black\")"
   ]
  },
  {
   "cell_type": "code",
   "execution_count": 38,
   "id": "bdb01302",
   "metadata": {},
   "outputs": [],
   "source": [
    "weather_sum = bike_share.groupby(\"weathersit\")[\"cnt\"].sum()\n",
    "weather_sum = weather_sum.reset_index()"
   ]
  },
  {
   "cell_type": "code",
   "execution_count": 39,
   "id": "b83b7930",
   "metadata": {},
   "outputs": [
    {
     "data": {
      "text/plain": [
       "<Axes: xlabel='weathersit', ylabel='cnt'>"
      ]
     },
     "execution_count": 39,
     "metadata": {},
     "output_type": "execute_result"
    },
    {
     "data": {
      "image/png": "[encoded data removed]",
      "text/plain": [
       "<Figure size 640x480 with 1 Axes>"
      ]
     },
     "metadata": {},
     "output_type": "display_data"
    }
   ],
   "source": [
    "sns.barplot(data = weather_sum , x = \"weathersit\", y =\"cnt\" , edgecolor = \"black\")"
   ]
  },
  {
   "cell_type": "code",
   "execution_count": 40,
   "id": "6a709e17",
   "metadata": {},
   "outputs": [
    {
     "data": {
      "text/plain": [
       "<Axes: xlabel='windspeed', ylabel='cnt'>"
      ]
     },
     "execution_count": 40,
     "metadata": {},
     "output_type": "execute_result"
    },
    {
     "data": {
      "image/png": "[encoded data removed]",
      "text/plain": [
       "<Figure size 1500x400 with 1 Axes>"
      ]
     },
     "metadata": {},
     "output_type": "display_data"
    }
   ],
   "source": [
    "windspeed_sum = bike_share.groupby(\"windspeed\")[\"cnt\"].sum()\n",
    "windspeed_sum = windspeed_sum.reset_index()\n",
    "plt.figure(figsize = (15,4) , dpi = 100)\n",
    "sns.barplot(data = windspeed_sum,x = \"windspeed\",y =\"cnt\",edgecolor =\"black\")"
   ]
  },
  {
   "cell_type": "code",
   "execution_count": 41,
   "id": "3233f9d5",
   "metadata": {},
   "outputs": [
    {
     "data": {
      "text/plain": [
       "<Axes: xlabel='temp', ylabel='cnt'>"
      ]
     },
     "execution_count": 41,
     "metadata": {},
     "output_type": "execute_result"
    },
    {
     "data": {
      "image/png": "[encoded data removed]",
      "text/plain": [
       "<Figure size 1500x400 with 1 Axes>"
      ]
     },
     "metadata": {},
     "output_type": "display_data"
    }
   ],
   "source": [
    "temp_sum = bike_share.groupby(\"temp\")[\"cnt\"].sum()\n",
    "temp_sum = temp_sum.reset_index()\n",
    "plt.figure(figsize = (15,4) , dpi = 100)\n",
    "sns.barplot(data = temp_sum,x = \"temp\",y =\"cnt\",edgecolor =\"black\")"
   ]
  },
  {
   "cell_type": "code",
   "execution_count": 42,
   "id": "1864de0e",
   "metadata": {},
   "outputs": [
    {
     "data": {
      "image/png": "[encoded data removed]",
      "text/plain": [
       "<Figure size 1600x800 with 1 Axes>"
      ]
     },
     "metadata": {},
     "output_type": "display_data"
    }
   ],
   "source": [
    "fig,ax = plt.subplots(figsize=(16,8))\n",
    "sns.set_style('dark') \n",
    "\n",
    "# Barplot for seasonwise monthly distribution of counts weekdays\n",
    "\n",
    "##sns.barplot(x='mnth',y = 'cnt',data=bike_share[['mnth','cnt','season']],ax=ax, hue='season')\n",
    "sns.barplot(x='mnth',y = 'cnt',data=bike_share[['mnth','cnt','weekday']],ax=ax, hue='weekday')\n",
    "ax.set_title(' monthly distribution of counts on weekdays')\n",
    "plt.show()"
   ]
  },
  {
   "cell_type": "code",
   "execution_count": 43,
   "id": "94858136",
   "metadata": {},
   "outputs": [
    {
     "data": {
      "image/png": "[encoded data removed]",
      "text/plain": [
       "<Figure size 1600x800 with 1 Axes>"
      ]
     },
     "metadata": {},
     "output_type": "display_data"
    }
   ],
   "source": [
    "fig,ax = plt.subplots(figsize=(16,8))\n",
    "sns.set_style('dark') \n",
    "\n",
    "# Barplot for seasonwise monthly distribution of counts weather\n",
    "\n",
    "##sns.barplot(x='mnth',y = 'cnt',data=bike_share[['mnth','cnt','season']],ax=ax, hue='season')\n",
    "sns.barplot(x='mnth',y = 'cnt',data=bike_share[['mnth','cnt','weathersit']],ax=ax, hue='weathersit')\n",
    "ax.set_title(' monthly distribution of counts on different weather')\n",
    "plt.show()"
   ]
  },
  {
   "cell_type": "code",
   "execution_count": 44,
   "id": "87721ee5",
   "metadata": {},
   "outputs": [
    {
     "data": {
      "image/png": "[encoded data removed]",
      "text/plain": [
       "<Figure size 1600x800 with 1 Axes>"
      ]
     },
     "metadata": {},
     "output_type": "display_data"
    }
   ],
   "source": [
    "fig,ax = plt.subplots(figsize=(16,8))\n",
    "sns.set_style('dark') \n",
    "\n",
    "# Barplot for seasonwise monthly distribution of counts workingdays\n",
    "\n",
    "##sns.barplot(x='mnth',y = 'cnt',data=bike_share[['mnth','cnt','season']],ax=ax, hue='season')\n",
    "sns.barplot(x='mnth',y = 'cnt',data=bike_share[['mnth','cnt','workingday']],ax=ax, hue='workingday')\n",
    "ax.set_title(' monthly distribution of counts on workingdays')\n",
    "plt.show()"
   ]
  },
  {
   "cell_type": "code",
   "execution_count": 45,
   "id": "8e6d685c",
   "metadata": {},
   "outputs": [
    {
     "data": {
      "image/png": "[encoded data removed]",
      "text/plain": [
       "<Figure size 1600x800 with 1 Axes>"
      ]
     },
     "metadata": {},
     "output_type": "display_data"
    }
   ],
   "source": [
    "fig,ax = plt.subplots(figsize=(16,8))\n",
    "sns.set_style('dark') \n",
    "sns.barplot(x='mnth',y = 'cnt',data=bike_share[['mnth','cnt','holiday']],ax=ax, hue='holiday')\n",
    "ax.set_title(' monthly distribution of counts on holidays')\n",
    "plt.show()"
   ]
  },
  {
   "cell_type": "code",
   "execution_count": 46,
   "id": "c65a51dc",
   "metadata": {},
   "outputs": [
    {
     "data": {
      "image/png": "[encoded data removed]",
      "text/plain": [
       "<Figure size 1200x600 with 2 Axes>"
      ]
     },
     "metadata": {},
     "output_type": "display_data"
    }
   ],
   "source": [
    "plt.figure(figsize = (12,6) , dpi = 100)\n",
    "sns.heatmap(bike_share.corr(), cmap=\"YlGnBu\", annot = True,center = 0)\n",
    "plt.show()"
   ]
  },
  {
   "cell_type": "code",
   "execution_count": 47,
   "id": "2f89119d",
   "metadata": {},
   "outputs": [
    {
     "data": {
      "image/png": "[encoded data removed]",
      "text/plain": [
       "<Figure size 1600x800 with 1 Axes>"
      ]
     },
     "metadata": {},
     "output_type": "display_data"
    }
   ],
   "source": [
    "fig,ax=plt.subplots(figsize=(16,8))\n",
    "ax.set_title('total_count outliers')\n",
    "sns.boxplot(data=bike_share[['cnt']])\n",
    "\n",
    "plt.show()"
   ]
  },
  {
   "cell_type": "code",
   "execution_count": 48,
   "id": "c7e5d377",
   "metadata": {},
   "outputs": [
    {
     "data": {
      "image/png": "[encoded data removed]",
      "text/plain": [
       "<Figure size 1600x800 with 1 Axes>"
      ]
     },
     "metadata": {},
     "output_type": "display_data"
    }
   ],
   "source": [
    "fig,ax=plt.subplots(figsize=(16,8))\n",
    "ax.set_title('Temp_windspeed_humidity_outiers')\n",
    "sns.boxplot(data=bike_share[['temp','windspeed','hum']])\n",
    "\n",
    "plt.show()"
   ]
  },
  {
   "cell_type": "code",
   "execution_count": 49,
   "id": "435a1a09",
   "metadata": {},
   "outputs": [],
   "source": [
    "\n",
    "wind_humidity=pd.DataFrame(bike_share,columns=['windspeed','hum'])\n",
    "cnames=['windspeed','hum']       \n",
    "                      \n",
    "for i in cnames:\n",
    "    q75,q25=np.percentile(wind_humidity.loc[:,i],[75,25]) \n",
    "    iqr=q75-q25\n",
    "    max=q75+(iqr*1.5) \n",
    "    min=q25-(iqr*1.5) \n",
    "    wind_humidity.loc[wind_humidity.loc[:,i]<min,:i]=np.nan  \n",
    "    wind_humidity.loc[wind_humidity.loc[:,i]>max,:i]=np.nan  \n",
    "\n",
    "wind_humidity['hum']=wind_humidity['hum'].fillna(wind_humidity['hum'].mean())\n",
    "wind_humidity['windspeed']=wind_humidity['windspeed'].fillna(wind_humidity['windspeed'].mean())"
   ]
  },
  {
   "cell_type": "code",
   "execution_count": 50,
   "id": "d694c707",
   "metadata": {},
   "outputs": [],
   "source": [
    "\n",
    "bike_share['hum']=bike_share['hum'].replace(wind_humidity['hum'])\n",
    "\n",
    "bike_share['windspeed']=bike_share['windspeed'].replace(wind_humidity['windspeed'])\n"
   ]
  },
  {
   "cell_type": "code",
   "execution_count": 51,
   "id": "6faa04da",
   "metadata": {},
   "outputs": [
    {
     "data": {
      "image/png": "[encoded data removed]",
      "text/plain": [
       "<Figure size 1600x800 with 1 Axes>"
      ]
     },
     "metadata": {},
     "output_type": "display_data"
    }
   ],
   "source": [
    "fig,ax=plt.subplots(figsize=(16,8))\n",
    "ax.set_title('Temp_windspeed_humidity_outiers')\n",
    "sns.boxplot(data=bike_share[['temp','windspeed','hum']])\n",
    "\n",
    "plt.show()"
   ]
  },
  {
   "cell_type": "code",
   "execution_count": 52,
   "id": "da73b5fc",
   "metadata": {},
   "outputs": [
    {
     "data": {
      "text/plain": [
       "(730, 16)"
      ]
     },
     "execution_count": 52,
     "metadata": {},
     "output_type": "execute_result"
    }
   ],
   "source": [
    "bike_share.shape"
   ]
  },
  {
   "cell_type": "code",
   "execution_count": 53,
   "id": "d0a2b063",
   "metadata": {},
   "outputs": [
    {
     "data": {
      "text/html": [
       "<div>\n",
       "<style scoped>\n",
       "    .dataframe tbody tr th:only-of-type {\n",
       "        vertical-align: middle;\n",
       "    }\n",
       "\n",
       "    .dataframe tbody tr th {\n",
       "        vertical-align: top;\n",
       "    }\n",
       "\n",
       "    .dataframe thead th {\n",
       "        text-align: right;\n",
       "    }\n",
       "</style>\n",
       "<table border=\"1\" class=\"dataframe\">\n",
       "  <thead>\n",
       "    <tr style=\"text-align: right;\">\n",
       "      <th></th>\n",
       "      <th>instant</th>\n",
       "      <th>dteday</th>\n",
       "      <th>season</th>\n",
       "      <th>yr</th>\n",
       "      <th>mnth</th>\n",
       "      <th>holiday</th>\n",
       "      <th>weekday</th>\n",
       "      <th>workingday</th>\n",
       "      <th>weathersit</th>\n",
       "      <th>temp</th>\n",
       "      <th>atemp</th>\n",
       "      <th>hum</th>\n",
       "      <th>windspeed</th>\n",
       "      <th>casual</th>\n",
       "      <th>registered</th>\n",
       "      <th>cnt</th>\n",
       "    </tr>\n",
       "  </thead>\n",
       "  <tbody>\n",
       "    <tr>\n",
       "      <th>0</th>\n",
       "      <td>1</td>\n",
       "      <td>2018-01-01</td>\n",
       "      <td>spring</td>\n",
       "      <td>2018</td>\n",
       "      <td>Jan</td>\n",
       "      <td>0</td>\n",
       "      <td>Sat</td>\n",
       "      <td>0</td>\n",
       "      <td>Cloudy</td>\n",
       "      <td>14.0</td>\n",
       "      <td>18.18125</td>\n",
       "      <td>80.5833</td>\n",
       "      <td>20.0</td>\n",
       "      <td>331</td>\n",
       "      <td>654</td>\n",
       "      <td>985</td>\n",
       "    </tr>\n",
       "    <tr>\n",
       "      <th>1</th>\n",
       "      <td>2</td>\n",
       "      <td>2018-02-01</td>\n",
       "      <td>spring</td>\n",
       "      <td>2018</td>\n",
       "      <td>Jan</td>\n",
       "      <td>0</td>\n",
       "      <td>Sun</td>\n",
       "      <td>0</td>\n",
       "      <td>Cloudy</td>\n",
       "      <td>15.0</td>\n",
       "      <td>17.68695</td>\n",
       "      <td>69.6087</td>\n",
       "      <td>10.0</td>\n",
       "      <td>131</td>\n",
       "      <td>670</td>\n",
       "      <td>801</td>\n",
       "    </tr>\n",
       "    <tr>\n",
       "      <th>2</th>\n",
       "      <td>3</td>\n",
       "      <td>2018-03-01</td>\n",
       "      <td>spring</td>\n",
       "      <td>2018</td>\n",
       "      <td>Jan</td>\n",
       "      <td>0</td>\n",
       "      <td>Mon</td>\n",
       "      <td>1</td>\n",
       "      <td>Clear</td>\n",
       "      <td>8.0</td>\n",
       "      <td>9.47025</td>\n",
       "      <td>43.7273</td>\n",
       "      <td>10.0</td>\n",
       "      <td>120</td>\n",
       "      <td>1229</td>\n",
       "      <td>1349</td>\n",
       "    </tr>\n",
       "    <tr>\n",
       "      <th>3</th>\n",
       "      <td>4</td>\n",
       "      <td>2018-04-01</td>\n",
       "      <td>spring</td>\n",
       "      <td>2018</td>\n",
       "      <td>Jan</td>\n",
       "      <td>0</td>\n",
       "      <td>Tue</td>\n",
       "      <td>1</td>\n",
       "      <td>Clear</td>\n",
       "      <td>8.0</td>\n",
       "      <td>10.60610</td>\n",
       "      <td>59.0435</td>\n",
       "      <td>20.0</td>\n",
       "      <td>108</td>\n",
       "      <td>1454</td>\n",
       "      <td>1562</td>\n",
       "    </tr>\n",
       "    <tr>\n",
       "      <th>4</th>\n",
       "      <td>5</td>\n",
       "      <td>2018-05-01</td>\n",
       "      <td>spring</td>\n",
       "      <td>2018</td>\n",
       "      <td>Jan</td>\n",
       "      <td>0</td>\n",
       "      <td>Wed</td>\n",
       "      <td>1</td>\n",
       "      <td>Clear</td>\n",
       "      <td>9.0</td>\n",
       "      <td>11.46350</td>\n",
       "      <td>43.6957</td>\n",
       "      <td>8.0</td>\n",
       "      <td>82</td>\n",
       "      <td>1518</td>\n",
       "      <td>1600</td>\n",
       "    </tr>\n",
       "  </tbody>\n",
       "</table>\n",
       "</div>"
      ],
      "text/plain": [
       "   instant     dteday  season    yr mnth holiday weekday workingday  \\\n",
       "0        1 2018-01-01  spring  2018  Jan       0     Sat          0   \n",
       "1        2 2018-02-01  spring  2018  Jan       0     Sun          0   \n",
       "2        3 2018-03-01  spring  2018  Jan       0     Mon          1   \n",
       "3        4 2018-04-01  spring  2018  Jan       0     Tue          1   \n",
       "4        5 2018-05-01  spring  2018  Jan       0     Wed          1   \n",
       "\n",
       "  weathersit  temp     atemp      hum  windspeed  casual  registered   cnt  \n",
       "0     Cloudy  14.0  18.18125  80.5833       20.0     331         654   985  \n",
       "1     Cloudy  15.0  17.68695  69.6087       10.0     131         670   801  \n",
       "2      Clear   8.0   9.47025  43.7273       10.0     120        1229  1349  \n",
       "3      Clear   8.0  10.60610  59.0435       20.0     108        1454  1562  \n",
       "4      Clear   9.0  11.46350  43.6957        8.0      82        1518  1600  "
      ]
     },
     "execution_count": 53,
     "metadata": {},
     "output_type": "execute_result"
    }
   ],
   "source": [
    "bike_share.head()"
   ]
  },
  {
   "cell_type": "code",
   "execution_count": 54,
   "id": "91aa738d",
   "metadata": {},
   "outputs": [],
   "source": [
    "bike_share = bike_share.drop([\"dteday\"] , axis = 1)\n",
    "bike_share = bike_share.drop([\"instant\"] , axis = 1)"
   ]
  },
  {
   "cell_type": "code",
   "execution_count": 55,
   "id": "1c38ab1e",
   "metadata": {},
   "outputs": [],
   "source": [
    "data = bike_share.drop(['casual'] , axis = 1)\n",
    "data = bike_share.drop(['registered'] , axis = 1)"
   ]
  },
  {
   "cell_type": "code",
   "execution_count": 56,
   "id": "444da32c",
   "metadata": {},
   "outputs": [],
   "source": [
    "\n",
    "from sklearn import preprocessing,metrics,linear_model\n",
    "from sklearn.model_selection import cross_val_score,cross_val_predict,train_test_split"
   ]
  },
  {
   "cell_type": "code",
   "execution_count": 57,
   "id": "858865d5",
   "metadata": {},
   "outputs": [
    {
     "data": {
      "text/plain": [
       "(511, 12)"
      ]
     },
     "metadata": {},
     "output_type": "display_data"
    },
    {
     "data": {
      "text/plain": [
       "(219, 12)"
      ]
     },
     "metadata": {},
     "output_type": "display_data"
    },
    {
     "data": {
      "text/plain": [
       "(511, 2)"
      ]
     },
     "metadata": {},
     "output_type": "display_data"
    },
    {
     "data": {
      "text/plain": [
       "(219, 2)"
      ]
     },
     "metadata": {},
     "output_type": "display_data"
    },
    {
     "data": {
      "text/html": [
       "<div>\n",
       "<style scoped>\n",
       "    .dataframe tbody tr th:only-of-type {\n",
       "        vertical-align: middle;\n",
       "    }\n",
       "\n",
       "    .dataframe tbody tr th {\n",
       "        vertical-align: top;\n",
       "    }\n",
       "\n",
       "    .dataframe thead th {\n",
       "        text-align: right;\n",
       "    }\n",
       "</style>\n",
       "<table border=\"1\" class=\"dataframe\">\n",
       "  <thead>\n",
       "    <tr style=\"text-align: right;\">\n",
       "      <th></th>\n",
       "      <th>index</th>\n",
       "      <th>cnt</th>\n",
       "    </tr>\n",
       "  </thead>\n",
       "  <tbody>\n",
       "    <tr>\n",
       "      <th>0</th>\n",
       "      <td>683</td>\n",
       "      <td>5445</td>\n",
       "    </tr>\n",
       "    <tr>\n",
       "      <th>1</th>\n",
       "      <td>645</td>\n",
       "      <td>5478</td>\n",
       "    </tr>\n",
       "    <tr>\n",
       "      <th>2</th>\n",
       "      <td>163</td>\n",
       "      <td>5020</td>\n",
       "    </tr>\n",
       "    <tr>\n",
       "      <th>3</th>\n",
       "      <td>360</td>\n",
       "      <td>1162</td>\n",
       "    </tr>\n",
       "    <tr>\n",
       "      <th>4</th>\n",
       "      <td>640</td>\n",
       "      <td>7572</td>\n",
       "    </tr>\n",
       "  </tbody>\n",
       "</table>\n",
       "</div>"
      ],
      "text/plain": [
       "   index   cnt\n",
       "0    683  5445\n",
       "1    645  5478\n",
       "2    163  5020\n",
       "3    360  1162\n",
       "4    640  7572"
      ]
     },
     "metadata": {},
     "output_type": "display_data"
    },
    {
     "data": {
      "text/html": [
       "<div>\n",
       "<style scoped>\n",
       "    .dataframe tbody tr th:only-of-type {\n",
       "        vertical-align: middle;\n",
       "    }\n",
       "\n",
       "    .dataframe tbody tr th {\n",
       "        vertical-align: top;\n",
       "    }\n",
       "\n",
       "    .dataframe thead th {\n",
       "        text-align: right;\n",
       "    }\n",
       "</style>\n",
       "<table border=\"1\" class=\"dataframe\">\n",
       "  <thead>\n",
       "    <tr style=\"text-align: right;\">\n",
       "      <th></th>\n",
       "      <th>index</th>\n",
       "      <th>cnt</th>\n",
       "    </tr>\n",
       "  </thead>\n",
       "  <tbody>\n",
       "    <tr>\n",
       "      <th>0</th>\n",
       "      <td>468</td>\n",
       "      <td>7460</td>\n",
       "    </tr>\n",
       "    <tr>\n",
       "      <th>1</th>\n",
       "      <td>148</td>\n",
       "      <td>4788</td>\n",
       "    </tr>\n",
       "    <tr>\n",
       "      <th>2</th>\n",
       "      <td>302</td>\n",
       "      <td>3331</td>\n",
       "    </tr>\n",
       "    <tr>\n",
       "      <th>3</th>\n",
       "      <td>355</td>\n",
       "      <td>3068</td>\n",
       "    </tr>\n",
       "    <tr>\n",
       "      <th>4</th>\n",
       "      <td>515</td>\n",
       "      <td>7338</td>\n",
       "    </tr>\n",
       "  </tbody>\n",
       "</table>\n",
       "</div>"
      ],
      "text/plain": [
       "   index   cnt\n",
       "0    468  7460\n",
       "1    148  4788\n",
       "2    302  3331\n",
       "3    355  3068\n",
       "4    515  7338"
      ]
     },
     "metadata": {},
     "output_type": "display_data"
    }
   ],
   "source": [
    "#Split the dataset into the train and test data\n",
    "from sklearn.model_selection import train_test_split\n",
    "X_train,X_test,y_train,y_test=train_test_split(bike_share.iloc[:,0:-3],bike_share.iloc[:,-1],test_size=0.3, random_state=42)\n",
    "\n",
    "#Reset train index values\n",
    "X_train.reset_index(inplace=True)\n",
    "y_train=y_train.reset_index()\n",
    "\n",
    "# Reset train index values\n",
    "X_test.reset_index(inplace=True)\n",
    "y_test=y_test.reset_index()\n",
    "\n",
    "display(X_train.shape,X_test.shape,y_train.shape,y_test.shape)\n",
    "display(y_train.head())\n",
    "display(y_test.head())"
   ]
  },
  {
   "cell_type": "code",
   "execution_count": null,
   "id": "71df9cc7",
   "metadata": {},
   "outputs": [],
   "source": []
  },
  {
   "cell_type": "code",
   "execution_count": 58,
   "id": "c6dbc9d4",
   "metadata": {},
   "outputs": [
    {
     "data": {
      "text/html": [
       "<div>\n",
       "<style scoped>\n",
       "    .dataframe tbody tr th:only-of-type {\n",
       "        vertical-align: middle;\n",
       "    }\n",
       "\n",
       "    .dataframe tbody tr th {\n",
       "        vertical-align: top;\n",
       "    }\n",
       "\n",
       "    .dataframe thead th {\n",
       "        text-align: right;\n",
       "    }\n",
       "</style>\n",
       "<table border=\"1\" class=\"dataframe\">\n",
       "  <thead>\n",
       "    <tr style=\"text-align: right;\">\n",
       "      <th></th>\n",
       "      <th>index</th>\n",
       "      <th>cnt</th>\n",
       "    </tr>\n",
       "  </thead>\n",
       "  <tbody>\n",
       "    <tr>\n",
       "      <th>0</th>\n",
       "      <td>683</td>\n",
       "      <td>5445</td>\n",
       "    </tr>\n",
       "    <tr>\n",
       "      <th>1</th>\n",
       "      <td>645</td>\n",
       "      <td>5478</td>\n",
       "    </tr>\n",
       "    <tr>\n",
       "      <th>2</th>\n",
       "      <td>163</td>\n",
       "      <td>5020</td>\n",
       "    </tr>\n",
       "    <tr>\n",
       "      <th>3</th>\n",
       "      <td>360</td>\n",
       "      <td>1162</td>\n",
       "    </tr>\n",
       "    <tr>\n",
       "      <th>4</th>\n",
       "      <td>640</td>\n",
       "      <td>7572</td>\n",
       "    </tr>\n",
       "    <tr>\n",
       "      <th>...</th>\n",
       "      <td>...</td>\n",
       "      <td>...</td>\n",
       "    </tr>\n",
       "    <tr>\n",
       "      <th>506</th>\n",
       "      <td>71</td>\n",
       "      <td>2417</td>\n",
       "    </tr>\n",
       "    <tr>\n",
       "      <th>507</th>\n",
       "      <td>106</td>\n",
       "      <td>3744</td>\n",
       "    </tr>\n",
       "    <tr>\n",
       "      <th>508</th>\n",
       "      <td>270</td>\n",
       "      <td>3907</td>\n",
       "    </tr>\n",
       "    <tr>\n",
       "      <th>509</th>\n",
       "      <td>435</td>\n",
       "      <td>5298</td>\n",
       "    </tr>\n",
       "    <tr>\n",
       "      <th>510</th>\n",
       "      <td>102</td>\n",
       "      <td>2162</td>\n",
       "    </tr>\n",
       "  </tbody>\n",
       "</table>\n",
       "<p>511 rows × 2 columns</p>\n",
       "</div>"
      ],
      "text/plain": [
       "     index   cnt\n",
       "0      683  5445\n",
       "1      645  5478\n",
       "2      163  5020\n",
       "3      360  1162\n",
       "4      640  7572\n",
       "..     ...   ...\n",
       "506     71  2417\n",
       "507    106  3744\n",
       "508    270  3907\n",
       "509    435  5298\n",
       "510    102  2162\n",
       "\n",
       "[511 rows x 2 columns]"
      ]
     },
     "execution_count": 58,
     "metadata": {},
     "output_type": "execute_result"
    }
   ],
   "source": [
    "y_train"
   ]
  },
  {
   "cell_type": "code",
   "execution_count": 59,
   "id": "1dc0fdaf",
   "metadata": {},
   "outputs": [],
   "source": [
    "#new dataset for train attributes\n",
    "train_attributes=X_train[['season','mnth','yr','weekday','holiday','workingday','weathersit','hum','temp','windspeed']]\n",
    "#new dataset for test attributes\n",
    "test_attributes=X_test[['season','mnth','yr','weekday','holiday','workingday','hum','temp','windspeed','weathersit']]\n",
    "#categorical attributes\n",
    "cat_attributes=['season','holiday','workingday','weathersit','yr','mnth','weekday']\n",
    "#numerical attributes\n",
    "num_attributes=['temp','windspeed','hum']"
   ]
  },
  {
   "cell_type": "code",
   "execution_count": 60,
   "id": "426ef77c",
   "metadata": {},
   "outputs": [
    {
     "name": "stdout",
     "output_type": "stream",
     "text": [
      "Shape of transfomed dataframe:: (511, 35)\n"
     ]
    },
    {
     "data": {
      "text/html": [
       "<div>\n",
       "<style scoped>\n",
       "    .dataframe tbody tr th:only-of-type {\n",
       "        vertical-align: middle;\n",
       "    }\n",
       "\n",
       "    .dataframe tbody tr th {\n",
       "        vertical-align: top;\n",
       "    }\n",
       "\n",
       "    .dataframe thead th {\n",
       "        text-align: right;\n",
       "    }\n",
       "</style>\n",
       "<table border=\"1\" class=\"dataframe\">\n",
       "  <thead>\n",
       "    <tr style=\"text-align: right;\">\n",
       "      <th></th>\n",
       "      <th>hum</th>\n",
       "      <th>temp</th>\n",
       "      <th>windspeed</th>\n",
       "      <th>season_spring</th>\n",
       "      <th>season_summer</th>\n",
       "      <th>season_fall</th>\n",
       "      <th>season_winter</th>\n",
       "      <th>holiday_0</th>\n",
       "      <th>holiday_1</th>\n",
       "      <th>workingday_0</th>\n",
       "      <th>...</th>\n",
       "      <th>mnth_Oct</th>\n",
       "      <th>mnth_Nov</th>\n",
       "      <th>mnth_Dec</th>\n",
       "      <th>weekday_Sun</th>\n",
       "      <th>weekday_Mon</th>\n",
       "      <th>weekday_Tue</th>\n",
       "      <th>weekday_Wed</th>\n",
       "      <th>weekday_Thu</th>\n",
       "      <th>weekday_Fri</th>\n",
       "      <th>weekday_Sat</th>\n",
       "    </tr>\n",
       "  </thead>\n",
       "  <tbody>\n",
       "    <tr>\n",
       "      <th>0</th>\n",
       "      <td>62.0417</td>\n",
       "      <td>13.0</td>\n",
       "      <td>8.0</td>\n",
       "      <td>0</td>\n",
       "      <td>0</td>\n",
       "      <td>0</td>\n",
       "      <td>1</td>\n",
       "      <td>1</td>\n",
       "      <td>0</td>\n",
       "      <td>0</td>\n",
       "      <td>...</td>\n",
       "      <td>0</td>\n",
       "      <td>1</td>\n",
       "      <td>0</td>\n",
       "      <td>0</td>\n",
       "      <td>0</td>\n",
       "      <td>0</td>\n",
       "      <td>0</td>\n",
       "      <td>1</td>\n",
       "      <td>0</td>\n",
       "      <td>0</td>\n",
       "    </tr>\n",
       "    <tr>\n",
       "      <th>1</th>\n",
       "      <td>70.9583</td>\n",
       "      <td>16.0</td>\n",
       "      <td>8.0</td>\n",
       "      <td>0</td>\n",
       "      <td>0</td>\n",
       "      <td>0</td>\n",
       "      <td>1</td>\n",
       "      <td>0</td>\n",
       "      <td>1</td>\n",
       "      <td>1</td>\n",
       "      <td>...</td>\n",
       "      <td>1</td>\n",
       "      <td>0</td>\n",
       "      <td>0</td>\n",
       "      <td>0</td>\n",
       "      <td>1</td>\n",
       "      <td>0</td>\n",
       "      <td>0</td>\n",
       "      <td>0</td>\n",
       "      <td>0</td>\n",
       "      <td>0</td>\n",
       "    </tr>\n",
       "    <tr>\n",
       "      <th>2</th>\n",
       "      <td>49.4583</td>\n",
       "      <td>26.0</td>\n",
       "      <td>24.0</td>\n",
       "      <td>0</td>\n",
       "      <td>1</td>\n",
       "      <td>0</td>\n",
       "      <td>0</td>\n",
       "      <td>1</td>\n",
       "      <td>0</td>\n",
       "      <td>0</td>\n",
       "      <td>...</td>\n",
       "      <td>0</td>\n",
       "      <td>0</td>\n",
       "      <td>0</td>\n",
       "      <td>0</td>\n",
       "      <td>1</td>\n",
       "      <td>0</td>\n",
       "      <td>0</td>\n",
       "      <td>0</td>\n",
       "      <td>0</td>\n",
       "      <td>0</td>\n",
       "    </tr>\n",
       "    <tr>\n",
       "      <th>3</th>\n",
       "      <td>76.2500</td>\n",
       "      <td>13.0</td>\n",
       "      <td>8.0</td>\n",
       "      <td>1</td>\n",
       "      <td>0</td>\n",
       "      <td>0</td>\n",
       "      <td>0</td>\n",
       "      <td>1</td>\n",
       "      <td>0</td>\n",
       "      <td>0</td>\n",
       "      <td>...</td>\n",
       "      <td>0</td>\n",
       "      <td>0</td>\n",
       "      <td>1</td>\n",
       "      <td>0</td>\n",
       "      <td>0</td>\n",
       "      <td>1</td>\n",
       "      <td>0</td>\n",
       "      <td>0</td>\n",
       "      <td>0</td>\n",
       "      <td>0</td>\n",
       "    </tr>\n",
       "    <tr>\n",
       "      <th>4</th>\n",
       "      <td>79.3750</td>\n",
       "      <td>27.0</td>\n",
       "      <td>13.0</td>\n",
       "      <td>0</td>\n",
       "      <td>0</td>\n",
       "      <td>0</td>\n",
       "      <td>1</td>\n",
       "      <td>1</td>\n",
       "      <td>0</td>\n",
       "      <td>0</td>\n",
       "      <td>...</td>\n",
       "      <td>1</td>\n",
       "      <td>0</td>\n",
       "      <td>0</td>\n",
       "      <td>0</td>\n",
       "      <td>0</td>\n",
       "      <td>0</td>\n",
       "      <td>1</td>\n",
       "      <td>0</td>\n",
       "      <td>0</td>\n",
       "      <td>0</td>\n",
       "    </tr>\n",
       "  </tbody>\n",
       "</table>\n",
       "<p>5 rows × 35 columns</p>\n",
       "</div>"
      ],
      "text/plain": [
       "       hum  temp  windspeed  season_spring  season_summer  season_fall  \\\n",
       "0  62.0417  13.0        8.0              0              0            0   \n",
       "1  70.9583  16.0        8.0              0              0            0   \n",
       "2  49.4583  26.0       24.0              0              1            0   \n",
       "3  76.2500  13.0        8.0              1              0            0   \n",
       "4  79.3750  27.0       13.0              0              0            0   \n",
       "\n",
       "   season_winter  holiday_0  holiday_1  workingday_0  ...  mnth_Oct  mnth_Nov  \\\n",
       "0              1          1          0             0  ...         0         1   \n",
       "1              1          0          1             1  ...         1         0   \n",
       "2              0          1          0             0  ...         0         0   \n",
       "3              0          1          0             0  ...         0         0   \n",
       "4              1          1          0             0  ...         1         0   \n",
       "\n",
       "   mnth_Dec  weekday_Sun  weekday_Mon  weekday_Tue  weekday_Wed  weekday_Thu  \\\n",
       "0         0            0            0            0            0            1   \n",
       "1         0            0            1            0            0            0   \n",
       "2         0            0            1            0            0            0   \n",
       "3         1            0            0            1            0            0   \n",
       "4         0            0            0            0            1            0   \n",
       "\n",
       "   weekday_Fri  weekday_Sat  \n",
       "0            0            0  \n",
       "1            0            0  \n",
       "2            0            0  \n",
       "3            0            0  \n",
       "4            0            0  \n",
       "\n",
       "[5 rows x 35 columns]"
      ]
     },
     "execution_count": 60,
     "metadata": {},
     "output_type": "execute_result"
    }
   ],
   "source": [
    "train_encoded_attributes=pd.get_dummies(train_attributes,columns=cat_attributes)\n",
    "print('Shape of transfomed dataframe::',train_encoded_attributes.shape)\n",
    "train_encoded_attributes.head(5)"
   ]
  },
  {
   "cell_type": "code",
   "execution_count": 61,
   "id": "01e7eeea",
   "metadata": {},
   "outputs": [],
   "source": [
    "X_train=train_encoded_attributes\n",
    "y_train=y_train.cnt.values"
   ]
  },
  {
   "cell_type": "code",
   "execution_count": 62,
   "id": "f8f59d83",
   "metadata": {},
   "outputs": [
    {
     "data": {
      "text/html": [
       "<style>#sk-container-id-1 {color: black;background-color: white;}#sk-container-id-1 pre{padding: 0;}#sk-container-id-1 div.sk-toggleable {background-color: white;}#sk-container-id-1 label.sk-toggleable__label {cursor: pointer;display: block;width: 100%;margin-bottom: 0;padding: 0.3em;box-sizing: border-box;text-align: center;}#sk-container-id-1 label.sk-toggleable__label-arrow:before {content: \"▸\";float: left;margin-right: 0.25em;color: #696969;}#sk-container-id-1 label.sk-toggleable__label-arrow:hover:before {color: black;}#sk-container-id-1 div.sk-estimator:hover label.sk-toggleable__label-arrow:before {color: black;}#sk-container-id-1 div.sk-toggleable__content {max-height: 0;max-width: 0;overflow: hidden;text-align: left;background-color: #f0f8ff;}#sk-container-id-1 div.sk-toggleable__content pre {margin: 0.2em;color: black;border-radius: 0.25em;background-color: #f0f8ff;}#sk-container-id-1 input.sk-toggleable__control:checked~div.sk-toggleable__content {max-height: 200px;max-width: 100%;overflow: auto;}#sk-container-id-1 input.sk-toggleable__control:checked~label.sk-toggleable__label-arrow:before {content: \"▾\";}#sk-container-id-1 div.sk-estimator input.sk-toggleable__control:checked~label.sk-toggleable__label {background-color: #d4ebff;}#sk-container-id-1 div.sk-label input.sk-toggleable__control:checked~label.sk-toggleable__label {background-color: #d4ebff;}#sk-container-id-1 input.sk-hidden--visually {border: 0;clip: rect(1px 1px 1px 1px);clip: rect(1px, 1px, 1px, 1px);height: 1px;margin: -1px;overflow: hidden;padding: 0;position: absolute;width: 1px;}#sk-container-id-1 div.sk-estimator {font-family: monospace;background-color: #f0f8ff;border: 1px dotted black;border-radius: 0.25em;box-sizing: border-box;margin-bottom: 0.5em;}#sk-container-id-1 div.sk-estimator:hover {background-color: #d4ebff;}#sk-container-id-1 div.sk-parallel-item::after {content: \"\";width: 100%;border-bottom: 1px solid gray;flex-grow: 1;}#sk-container-id-1 div.sk-label:hover label.sk-toggleable__label {background-color: #d4ebff;}#sk-container-id-1 div.sk-serial::before {content: \"\";position: absolute;border-left: 1px solid gray;box-sizing: border-box;top: 0;bottom: 0;left: 50%;z-index: 0;}#sk-container-id-1 div.sk-serial {display: flex;flex-direction: column;align-items: center;background-color: white;padding-right: 0.2em;padding-left: 0.2em;position: relative;}#sk-container-id-1 div.sk-item {position: relative;z-index: 1;}#sk-container-id-1 div.sk-parallel {display: flex;align-items: stretch;justify-content: center;background-color: white;position: relative;}#sk-container-id-1 div.sk-item::before, #sk-container-id-1 div.sk-parallel-item::before {content: \"\";position: absolute;border-left: 1px solid gray;box-sizing: border-box;top: 0;bottom: 0;left: 50%;z-index: -1;}#sk-container-id-1 div.sk-parallel-item {display: flex;flex-direction: column;z-index: 1;position: relative;background-color: white;}#sk-container-id-1 div.sk-parallel-item:first-child::after {align-self: flex-end;width: 50%;}#sk-container-id-1 div.sk-parallel-item:last-child::after {align-self: flex-start;width: 50%;}#sk-container-id-1 div.sk-parallel-item:only-child::after {width: 0;}#sk-container-id-1 div.sk-dashed-wrapped {border: 1px dashed gray;margin: 0 0.4em 0.5em 0.4em;box-sizing: border-box;padding-bottom: 0.4em;background-color: white;}#sk-container-id-1 div.sk-label label {font-family: monospace;font-weight: bold;display: inline-block;line-height: 1.2em;}#sk-container-id-1 div.sk-label-container {text-align: center;}#sk-container-id-1 div.sk-container {/* jupyter's `normalize.less` sets `[hidden] { display: none; }` but bootstrap.min.css set `[hidden] { display: none !important; }` so we also need the `!important` here to be able to override the default hidden behavior on the sphinx rendered scikit-learn.org. See: https://github.com/scikit-learn/scikit-learn/issues/21755 */display: inline-block !important;position: relative;}#sk-container-id-1 div.sk-text-repr-fallback {display: none;}</style><div id=\"sk-container-id-1\" class=\"sk-top-container\"><div class=\"sk-text-repr-fallback\"><pre>LinearRegression()</pre><b>In a Jupyter environment, please rerun this cell to show the HTML representation or trust the notebook. <br />On GitHub, the HTML representation is unable to render, please try loading this page with nbviewer.org.</b></div><div class=\"sk-container\" hidden><div class=\"sk-item\"><div class=\"sk-estimator sk-toggleable\"><input class=\"sk-toggleable__control sk-hidden--visually\" id=\"sk-estimator-id-1\" type=\"checkbox\" checked><label for=\"sk-estimator-id-1\" class=\"sk-toggleable__label sk-toggleable__label-arrow\">LinearRegression</label><div class=\"sk-toggleable__content\"><pre>LinearRegression()</pre></div></div></div></div></div>"
      ],
      "text/plain": [
       "LinearRegression()"
      ]
     },
     "execution_count": 62,
     "metadata": {},
     "output_type": "execute_result"
    }
   ],
   "source": [
    "lr_model=linear_model.LinearRegression()\n",
    "lr_model\n",
    "lr_model.fit(X_train,y_train)\n",
    "lr_model"
   ]
  },
  {
   "cell_type": "code",
   "execution_count": 63,
   "id": "9e266125",
   "metadata": {},
   "outputs": [
    {
     "name": "stdout",
     "output_type": "stream",
     "text": [
      "Accuracy of the model : 0.8394332663134307\n",
      "Model coefficients : [-6.93116027e+00  1.10293592e+02 -4.02152525e-01 -1.11537069e+03\n",
      "  1.92437145e+02  1.03970838e+02  8.18962706e+02  1.92486422e+02\n",
      " -1.92486422e+02 -1.05910610e+02  1.05910610e+02  9.33047853e+02\n",
      "  3.27349875e+02 -1.26039773e+03 -9.86803760e+02  9.86803760e+02\n",
      " -7.42171546e+01  6.92529720e+01  4.74033176e+02 -1.20879180e+02\n",
      "  2.14562723e+02 -1.52378956e+01 -3.41130093e+02 -1.23492688e+02\n",
      "  5.56549997e+02  2.34017205e+02 -5.14953788e+02 -3.58505273e+02\n",
      " -1.58575442e+02 -8.19802031e+01 -1.76039689e+02  1.03347521e+01\n",
      "  6.24135311e+01  9.86957963e+01  2.45151255e+02]\n",
      "Model intercept value : 1797.4844034125017\n"
     ]
    }
   ],
   "source": [
    "lr=lr_model.score(X_train,y_train)\n",
    "print('Accuracy of the model :',lr)\n",
    "print('Model coefficients :',lr_model.coef_)\n",
    "print('Model intercept value :',lr_model.intercept_)"
   ]
  },
  {
   "cell_type": "code",
   "execution_count": 64,
   "id": "d416c736",
   "metadata": {},
   "outputs": [
    {
     "name": "stdout",
     "output_type": "stream",
     "text": [
      "R-squared scores : 0.8079388190686885\n"
     ]
    }
   ],
   "source": [
    "r2_scores = cross_val_score(lr_model, X_train, y_train, cv=3)\n",
    "print('R-squared scores :',np.average(r2_scores))"
   ]
  },
  {
   "cell_type": "code",
   "execution_count": 65,
   "id": "9b65e52d",
   "metadata": {},
   "outputs": [
    {
     "name": "stdout",
     "output_type": "stream",
     "text": [
      "Shape of transformed dataframe : (219, 35)\n"
     ]
    },
    {
     "data": {
      "text/html": [
       "<div>\n",
       "<style scoped>\n",
       "    .dataframe tbody tr th:only-of-type {\n",
       "        vertical-align: middle;\n",
       "    }\n",
       "\n",
       "    .dataframe tbody tr th {\n",
       "        vertical-align: top;\n",
       "    }\n",
       "\n",
       "    .dataframe thead th {\n",
       "        text-align: right;\n",
       "    }\n",
       "</style>\n",
       "<table border=\"1\" class=\"dataframe\">\n",
       "  <thead>\n",
       "    <tr style=\"text-align: right;\">\n",
       "      <th></th>\n",
       "      <th>hum</th>\n",
       "      <th>temp</th>\n",
       "      <th>windspeed</th>\n",
       "      <th>season_spring</th>\n",
       "      <th>season_summer</th>\n",
       "      <th>season_fall</th>\n",
       "      <th>season_winter</th>\n",
       "      <th>holiday_0</th>\n",
       "      <th>holiday_1</th>\n",
       "      <th>workingday_0</th>\n",
       "      <th>...</th>\n",
       "      <th>mnth_Oct</th>\n",
       "      <th>mnth_Nov</th>\n",
       "      <th>mnth_Dec</th>\n",
       "      <th>weekday_Sun</th>\n",
       "      <th>weekday_Mon</th>\n",
       "      <th>weekday_Tue</th>\n",
       "      <th>weekday_Wed</th>\n",
       "      <th>weekday_Thu</th>\n",
       "      <th>weekday_Fri</th>\n",
       "      <th>weekday_Sat</th>\n",
       "    </tr>\n",
       "  </thead>\n",
       "  <tbody>\n",
       "    <tr>\n",
       "      <th>0</th>\n",
       "      <td>50.2917</td>\n",
       "      <td>20.0</td>\n",
       "      <td>8.0</td>\n",
       "      <td>0</td>\n",
       "      <td>1</td>\n",
       "      <td>0</td>\n",
       "      <td>0</td>\n",
       "      <td>1</td>\n",
       "      <td>0</td>\n",
       "      <td>1</td>\n",
       "      <td>...</td>\n",
       "      <td>0</td>\n",
       "      <td>0</td>\n",
       "      <td>0</td>\n",
       "      <td>0</td>\n",
       "      <td>0</td>\n",
       "      <td>0</td>\n",
       "      <td>0</td>\n",
       "      <td>0</td>\n",
       "      <td>0</td>\n",
       "      <td>1</td>\n",
       "    </tr>\n",
       "    <tr>\n",
       "      <th>1</th>\n",
       "      <td>81.8750</td>\n",
       "      <td>27.0</td>\n",
       "      <td>11.0</td>\n",
       "      <td>0</td>\n",
       "      <td>1</td>\n",
       "      <td>0</td>\n",
       "      <td>0</td>\n",
       "      <td>1</td>\n",
       "      <td>0</td>\n",
       "      <td>1</td>\n",
       "      <td>...</td>\n",
       "      <td>0</td>\n",
       "      <td>0</td>\n",
       "      <td>0</td>\n",
       "      <td>1</td>\n",
       "      <td>0</td>\n",
       "      <td>0</td>\n",
       "      <td>0</td>\n",
       "      <td>0</td>\n",
       "      <td>0</td>\n",
       "      <td>0</td>\n",
       "    </tr>\n",
       "    <tr>\n",
       "      <th>2</th>\n",
       "      <td>62.3750</td>\n",
       "      <td>13.0</td>\n",
       "      <td>20.0</td>\n",
       "      <td>0</td>\n",
       "      <td>0</td>\n",
       "      <td>0</td>\n",
       "      <td>1</td>\n",
       "      <td>1</td>\n",
       "      <td>0</td>\n",
       "      <td>1</td>\n",
       "      <td>...</td>\n",
       "      <td>1</td>\n",
       "      <td>0</td>\n",
       "      <td>0</td>\n",
       "      <td>1</td>\n",
       "      <td>0</td>\n",
       "      <td>0</td>\n",
       "      <td>0</td>\n",
       "      <td>0</td>\n",
       "      <td>0</td>\n",
       "      <td>0</td>\n",
       "    </tr>\n",
       "    <tr>\n",
       "      <th>3</th>\n",
       "      <td>75.7500</td>\n",
       "      <td>17.0</td>\n",
       "      <td>11.0</td>\n",
       "      <td>1</td>\n",
       "      <td>0</td>\n",
       "      <td>0</td>\n",
       "      <td>0</td>\n",
       "      <td>1</td>\n",
       "      <td>0</td>\n",
       "      <td>0</td>\n",
       "      <td>...</td>\n",
       "      <td>0</td>\n",
       "      <td>0</td>\n",
       "      <td>1</td>\n",
       "      <td>0</td>\n",
       "      <td>0</td>\n",
       "      <td>0</td>\n",
       "      <td>0</td>\n",
       "      <td>1</td>\n",
       "      <td>0</td>\n",
       "      <td>0</td>\n",
       "    </tr>\n",
       "    <tr>\n",
       "      <th>4</th>\n",
       "      <td>49.2917</td>\n",
       "      <td>28.0</td>\n",
       "      <td>8.0</td>\n",
       "      <td>0</td>\n",
       "      <td>1</td>\n",
       "      <td>0</td>\n",
       "      <td>0</td>\n",
       "      <td>1</td>\n",
       "      <td>0</td>\n",
       "      <td>0</td>\n",
       "      <td>...</td>\n",
       "      <td>0</td>\n",
       "      <td>0</td>\n",
       "      <td>0</td>\n",
       "      <td>0</td>\n",
       "      <td>0</td>\n",
       "      <td>0</td>\n",
       "      <td>0</td>\n",
       "      <td>1</td>\n",
       "      <td>0</td>\n",
       "      <td>0</td>\n",
       "    </tr>\n",
       "  </tbody>\n",
       "</table>\n",
       "<p>5 rows × 35 columns</p>\n",
       "</div>"
      ],
      "text/plain": [
       "       hum  temp  windspeed  season_spring  season_summer  season_fall  \\\n",
       "0  50.2917  20.0        8.0              0              1            0   \n",
       "1  81.8750  27.0       11.0              0              1            0   \n",
       "2  62.3750  13.0       20.0              0              0            0   \n",
       "3  75.7500  17.0       11.0              1              0            0   \n",
       "4  49.2917  28.0        8.0              0              1            0   \n",
       "\n",
       "   season_winter  holiday_0  holiday_1  workingday_0  ...  mnth_Oct  mnth_Nov  \\\n",
       "0              0          1          0             1  ...         0         0   \n",
       "1              0          1          0             1  ...         0         0   \n",
       "2              1          1          0             1  ...         1         0   \n",
       "3              0          1          0             0  ...         0         0   \n",
       "4              0          1          0             0  ...         0         0   \n",
       "\n",
       "   mnth_Dec  weekday_Sun  weekday_Mon  weekday_Tue  weekday_Wed  weekday_Thu  \\\n",
       "0         0            0            0            0            0            0   \n",
       "1         0            1            0            0            0            0   \n",
       "2         0            1            0            0            0            0   \n",
       "3         1            0            0            0            0            1   \n",
       "4         0            0            0            0            0            1   \n",
       "\n",
       "   weekday_Fri  weekday_Sat  \n",
       "0            0            1  \n",
       "1            0            0  \n",
       "2            0            0  \n",
       "3            0            0  \n",
       "4            0            0  \n",
       "\n",
       "[5 rows x 35 columns]"
      ]
     },
     "execution_count": 65,
     "metadata": {},
     "output_type": "execute_result"
    }
   ],
   "source": [
    "#To get dummy variables to convert categorical variables to numeric\n",
    "test_encoded_attributes=pd.get_dummies(test_attributes,columns=cat_attributes)\n",
    "print('Shape of transformed dataframe :',test_encoded_attributes.shape)\n",
    "test_encoded_attributes.head(5)"
   ]
  },
  {
   "cell_type": "code",
   "execution_count": 66,
   "id": "ac5891c3",
   "metadata": {},
   "outputs": [],
   "source": [
    "X_test=test_encoded_attributes\n",
    "y_test=y_test.cnt.values"
   ]
  },
  {
   "cell_type": "code",
   "execution_count": 67,
   "id": "d14ca142",
   "metadata": {},
   "outputs": [
    {
     "data": {
      "text/plain": [
       "array([5974.69583114, 4484.74328753, 3718.15129798, 1370.49711277,\n",
       "       7228.50112462, 5002.38459471, 2402.14335699, 3070.19896804,\n",
       "       3547.4910579 , 3438.08517685, 2683.54891619, 4823.18007692,\n",
       "       2241.71424388, 4483.1410518 , 4794.71750121, 3625.97983526,\n",
       "       5591.00897944, 1632.07787726, 5999.64362976, 4206.50518056,\n",
       "       3848.70032716, 4899.49834204, 5004.11897658, 5395.90429863,\n",
       "       4701.47478645, 4977.37654171, 4080.73621419,  716.24688988,\n",
       "       4779.93317768, 1653.44566764, 3273.21701131, 3835.04492164,\n",
       "       1288.85206246, 2145.49600685, 5809.08692082, 4877.83028332,\n",
       "       2850.56336964, 3130.15262343,  357.47361193, 7469.50234961,\n",
       "       1840.06823176, 5708.12531746, 5135.74774674, 6773.76013603,\n",
       "       4516.62032488, 3640.35550233, 6470.53587721, 5301.88132925,\n",
       "       4697.80227925, 6611.58825732, 4322.58822826, 4340.14747382,\n",
       "       5361.42486504, 4713.20001983, 5298.2861535 , 7002.83326538,\n",
       "       4091.84492054, 5724.65456766, 4149.58078294, 4984.41423951,\n",
       "       3479.36196604, 5031.04200061, 3762.86662037, 4638.99829731,\n",
       "       3293.11171307, 2749.49420455, 2042.11172103, 6477.1608497 ,\n",
       "       3258.84652   , 2660.16765875, 5997.24980967, 5267.72502423,\n",
       "       1596.83642261, 2565.9453357 , 6518.23078354, 3263.03929258,\n",
       "        862.85661745, 5022.51882486, 2820.73989622, 5075.64592991,\n",
       "       6652.97374766, 4456.20713851, 2376.55917551, 4553.29240041,\n",
       "       4991.50759285, 3720.93531769, 6458.55963791, 3033.15831357,\n",
       "        515.22862579, 6702.67223785, 5693.55794139, 5210.89753477,\n",
       "       3629.98831792, 4129.04343347, 4762.3299082 , 3299.11608812,\n",
       "       7275.41179282, 6913.7640592 , 5321.84648119, 3677.52825087,\n",
       "       3489.87681684, 6773.31929425, 4623.18353078, 3206.3077743 ,\n",
       "       2763.75652982,  516.40609996, 4196.20465255, 2140.43232289,\n",
       "       5589.10592241, 4345.78719622, 5885.03209492, 6951.59481883,\n",
       "       1645.36661623, 6691.53898224, 5877.62487651, 1543.18558402,\n",
       "       6812.00917173, 6251.03866611, 3556.67852836, 1345.80376728,\n",
       "       5991.91534151, 6405.03995614, 7312.62811001, 2638.79404015,\n",
       "       2644.53764454, 5464.69675896, 3002.41024853, 5999.31759931,\n",
       "       6838.96919795, 5066.12801231, 4443.52739316, 4395.32333415,\n",
       "       6484.62903642, 2450.53201373, 3430.18982425, 5661.27120285,\n",
       "       1872.15063274, 5147.06546854, 4416.67649586, 2524.50126849,\n",
       "       2450.59175507, 3852.45241783, 3291.14781805, 4435.93871076,\n",
       "       4462.04120717, 4158.65644052, 3954.12031973, 3594.08182281,\n",
       "       5989.40569331, 4587.07431006, 3618.13865507, 4326.73719241,\n",
       "        874.18699763, 3558.31129995, 2784.80291977, 4930.58385182,\n",
       "       6869.95893009, 5237.24976011, 6342.06087118, 3651.85565227,\n",
       "       6697.72328447, 5436.21277991, 1618.84459361, 3178.56867897,\n",
       "       4641.69790382, 1976.80483489, 7606.34039977, 6702.45728543,\n",
       "       3001.10978307, 6707.54153597,  629.78727225, 4246.25140206,\n",
       "       4686.27192518, 6845.49849182, 4247.62274097, 4918.37420799,\n",
       "       3982.68292305, 2925.07075324,  610.89764154, 3060.48376778,\n",
       "       6346.30101592, 6892.74488123, 4562.91712511, 6593.21891301,\n",
       "       5657.63297752, 5296.04867495, 5080.18418172, 1062.16269485,\n",
       "       6742.56900369, 4395.71483055, 2712.73639541, 5217.37732694,\n",
       "       3672.20073857, 2119.68059443, 6532.87292543, 4170.40410418,\n",
       "        971.82006146, 5165.47657704, 4732.9420313 , 4563.90871753,\n",
       "       7065.55091225, 4829.3047987 , 6313.93957465, 1957.12886561,\n",
       "       4629.19122672, 3183.92775023, 6025.84922134, 4451.70119331,\n",
       "       3077.47828917, 5269.58569496, 3732.44741081, 5129.44740801,\n",
       "       4488.45937194, 3198.056362  , 3080.08982918, 6051.36139792,\n",
       "       6241.22781184, 4169.54337784, 2967.72401314])"
      ]
     },
     "metadata": {},
     "output_type": "display_data"
    }
   ],
   "source": [
    "lr_pred=lr_model.predict(X_test)\n",
    "display(lr_pred)"
   ]
  },
  {
   "cell_type": "code",
   "execution_count": 68,
   "id": "48784b64",
   "metadata": {},
   "outputs": [
    {
     "name": "stdout",
     "output_type": "stream",
     "text": [
      "Root mean square error : 832.1560376684733\n",
      "Mean absolute error : 613.0969759558786\n"
     ]
    }
   ],
   "source": [
    "#Root mean square error\n",
    "import math \n",
    "rmse=math.sqrt(metrics.mean_squared_error(y_test,lr_pred))\n",
    "#Mean absolute error\n",
    "mae=metrics.mean_absolute_error(y_test,lr_pred)\n",
    "print('Root mean square error :',rmse)\n",
    "print('Mean absolute error :',mae)"
   ]
  },
  {
   "cell_type": "code",
   "execution_count": 69,
   "id": "3cf6e10a",
   "metadata": {},
   "outputs": [
    {
     "data": {
      "image/png": "[encoded data removed]",
      "text/plain": [
       "<Figure size 1600x800 with 1 Axes>"
      ]
     },
     "metadata": {},
     "output_type": "display_data"
    }
   ],
   "source": [
    "fig, ax = plt.subplots(figsize=(16,8))\n",
    "ax.set_xlabel('Observed')\n",
    "ax.set_ylabel('Residuals')\n",
    "ax.title.set_text(\"Residual Plot\")\n",
    "ax.scatter(y_test, y_test-lr_pred)\n",
    "ax.axhline(lw=2,color='black')\n",
    "\n",
    "plt.show()"
   ]
  },
  {
   "cell_type": "code",
   "execution_count": null,
   "id": "d5760921",
   "metadata": {},
   "outputs": [],
   "source": []
  },
  {
   "cell_type": "code",
   "execution_count": null,
   "id": "46c13cfa",
   "metadata": {},
   "outputs": [],
   "source": []
  },
  {
   "cell_type": "code",
   "execution_count": null,
   "id": "ea33b945",
   "metadata": {},
   "outputs": [],
   "source": []
  },
  {
   "cell_type": "code",
   "execution_count": null,
   "id": "61312d8a",
   "metadata": {},
   "outputs": [],
   "source": []
  },
  {
   "cell_type": "code",
   "execution_count": null,
   "id": "f9a59083",
   "metadata": {},
   "outputs": [],
   "source": []
  },
  {
   "cell_type": "code",
   "execution_count": null,
   "id": "8a907550",
   "metadata": {},
   "outputs": [],
   "source": []
  },
  {
   "cell_type": "code",
   "execution_count": null,
   "id": "c824af24",
   "metadata": {},
   "outputs": [],
   "source": []
  },
  {
   "cell_type": "code",
   "execution_count": null,
   "id": "57a1836e",
   "metadata": {},
   "outputs": [],
   "source": []
  },
  {
   "cell_type": "code",
   "execution_count": null,
   "id": "de587bf2",
   "metadata": {},
   "outputs": [],
   "source": []
  },
  {
   "cell_type": "code",
   "execution_count": null,
   "id": "e88a1e7f",
   "metadata": {},
   "outputs": [],
   "source": []
  },
  {
   "cell_type": "code",
   "execution_count": null,
   "id": "f57c8227",
   "metadata": {},
   "outputs": [],
   "source": []
  },
  {
   "cell_type": "code",
   "execution_count": null,
   "id": "f834451d",
   "metadata": {},
   "outputs": [],
   "source": []
  },
  {
   "cell_type": "code",
   "execution_count": null,
   "id": "aff97b8c",
   "metadata": {},
   "outputs": [],
   "source": []
  },
  {
   "cell_type": "code",
   "execution_count": null,
   "id": "471df333",
   "metadata": {},
   "outputs": [],
   "source": []
  },
  {
   "cell_type": "code",
   "execution_count": null,
   "id": "700d8476",
   "metadata": {},
   "outputs": [],
   "source": []
  },
  {
   "cell_type": "code",
   "execution_count": null,
   "id": "97fac125",
   "metadata": {},
   "outputs": [],
   "source": []
  }
 ],
 "metadata": {
  "kernelspec": {
   "display_name": "Python 3 (ipykernel)",
   "language": "python",
   "name": "python3"
  },
  "language_info": {
   "codemirror_mode": {
    "name": "ipython",
    "version": 3
   },
   "file_extension": ".py",
   "mimetype": "text/x-python",
   "name": "python",
   "nbconvert_exporter": "python",
   "pygments_lexer": "ipython3",
   "version": "3.10.9"
  }
 },
 "nbformat": 4,
 "nbformat_minor": 5
}
